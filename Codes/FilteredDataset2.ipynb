{
 "cells": [
  {
   "cell_type": "markdown",
   "metadata": {
    "colab_type": "text",
    "id": "lwJeOsCDbUAN"
   },
   "source": [
    "# `Importing libraries and the dataset`"
   ]
  },
  {
   "cell_type": "code",
   "execution_count": 1,
   "metadata": {
    "colab": {
     "base_uri": "https://localhost:8080/",
     "height": 309
    },
    "colab_type": "code",
    "id": "iGzbC6YKythr",
    "outputId": "b8b0f032-a0ca-4f32-dd68-2fe3bf431481"
   },
   "outputs": [
    {
     "name": "stdout",
     "output_type": "stream",
     "text": [
      "Collecting scikit-plot\n",
      "  Downloading https://files.pythonhosted.org/packages/7c/47/32520e259340c140a4ad27c1b97050dd3254fdc517b1d59974d47037510e/scikit_plot-0.3.7-py3-none-any.whl\n",
      "Requirement already satisfied: scipy>=0.9 in /usr/local/lib/python3.6/dist-packages (from scikit-plot) (1.4.1)\n",
      "Requirement already satisfied: scikit-learn>=0.18 in /usr/local/lib/python3.6/dist-packages (from scikit-plot) (0.22.2.post1)\n",
      "Requirement already satisfied: matplotlib>=1.4.0 in /usr/local/lib/python3.6/dist-packages (from scikit-plot) (3.2.1)\n",
      "Requirement already satisfied: joblib>=0.10 in /usr/local/lib/python3.6/dist-packages (from scikit-plot) (0.14.1)\n",
      "Requirement already satisfied: numpy>=1.13.3 in /usr/local/lib/python3.6/dist-packages (from scipy>=0.9->scikit-plot) (1.18.4)\n",
      "Requirement already satisfied: kiwisolver>=1.0.1 in /usr/local/lib/python3.6/dist-packages (from matplotlib>=1.4.0->scikit-plot) (1.2.0)\n",
      "Requirement already satisfied: cycler>=0.10 in /usr/local/lib/python3.6/dist-packages (from matplotlib>=1.4.0->scikit-plot) (0.10.0)\n",
      "Requirement already satisfied: pyparsing!=2.0.4,!=2.1.2,!=2.1.6,>=2.0.1 in /usr/local/lib/python3.6/dist-packages (from matplotlib>=1.4.0->scikit-plot) (2.4.7)\n",
      "Requirement already satisfied: python-dateutil>=2.1 in /usr/local/lib/python3.6/dist-packages (from matplotlib>=1.4.0->scikit-plot) (2.8.1)\n",
      "Requirement already satisfied: six in /usr/local/lib/python3.6/dist-packages (from cycler>=0.10->matplotlib>=1.4.0->scikit-plot) (1.12.0)\n",
      "Installing collected packages: scikit-plot\n",
      "Successfully installed scikit-plot-0.3.7\n"
     ]
    },
    {
     "name": "stderr",
     "output_type": "stream",
     "text": [
      "/usr/local/lib/python3.6/dist-packages/statsmodels/tools/_testing.py:19: FutureWarning: pandas.util.testing is deprecated. Use the functions in the public API at pandas.testing instead.\n",
      "  import pandas.util.testing as tm\n"
     ]
    }
   ],
   "source": [
    "!pip install scikit-plot \n",
    "#data manipulation and visualization libraries\n",
    "import numpy as np\n",
    "import pandas as pd\n",
    "import matplotlib.pyplot as plt\n",
    "import seaborn as sns\n",
    "from collections import defaultdict\n",
    "\n",
    "#libraries for modelling and evaluation\n",
    "from sklearn.linear_model import LogisticRegression\n",
    "from sklearn.ensemble import GradientBoostingClassifier\n",
    "from sklearn.tree import DecisionTreeClassifier\n",
    "from sklearn.ensemble import RandomForestClassifier\n",
    "from sklearn.model_selection import train_test_split, GridSearchCV,cross_val_score\n",
    "from sklearn.metrics import classification_report\n",
    "from sklearn.metrics import roc_auc_score,roc_curve\n",
    "from sklearn.model_selection import KFold\n",
    "import scikitplot as skplt \n",
    "import warnings\n",
    "warnings.filterwarnings('ignore')"
   ]
  },
  {
   "cell_type": "code",
   "execution_count": 0,
   "metadata": {
    "colab": {},
    "colab_type": "code",
    "id": "GM_v9XdH0vKf"
   },
   "outputs": [],
   "source": [
    " #importing the data and making a dataframe\n",
    "data = pd.read_csv('https://raw.githubusercontent.com/IrenOkminyan/BUS288/master/ETH_USDT.csv')\n",
    "data.dropna(inplace=True)\n",
    "data=data.drop(['close_10.0_le_5_c'],axis=1)\n",
    "data=data.drop(['close_10.0_ge_5_fc', 'cci_20', 'wr_6', 'rsi_12', 'trix_9_sma', 'open_2_sma', 'macds', 'boll', 'boll_lb', 'kdjj', 'kdjd', 'rsi_6', 'wr_10', 'cci', 'macd', 'boll_ub', 'adx', 'adxr', 'tema'],axis=1)\n",
    "data=data.drop(['atr', 'vr', 'vr_6_sma','Open', 'Close', 'High', 'Low', 'volume_-3~1_min', 'kdjk', 'trix', 'cr', 'cr-ma1', 'cr-ma2', 'cr-ma3'], axis = 1)\n",
    "data=data.drop(['Volume', 'Number_of_trades', 'mdi', 'tr', 'volume_-3,2,-1_max', 'open_2_d'], axis = 1)\n",
    "\n",
    "data.set_index(keys='Close_time', inplace=True)\n",
    "data.target=data.target.map({-1:0, 1:1})\n",
    "\n",
    "data_lr = data\n",
    "data_gb = data\n",
    "data_dt = data\n",
    "data_rf = data"
   ]
  },
  {
   "cell_type": "markdown",
   "metadata": {
    "colab_type": "text",
    "id": "7uKCJA-I1PML"
   },
   "source": [
    "# `Logistic Regression`"
   ]
  },
  {
   "cell_type": "code",
   "execution_count": 0,
   "metadata": {
    "colab": {},
    "colab_type": "code",
    "id": "1p8b-StT1X8A"
   },
   "outputs": [],
   "source": [
    "#making dummes,train test split\n",
    "data_lr = pd.get_dummies(data_lr, drop_first=True)"
   ]
  },
  {
   "cell_type": "code",
   "execution_count": 0,
   "metadata": {
    "colab": {},
    "colab_type": "code",
    "id": "G-iKqCyq1ZNZ"
   },
   "outputs": [],
   "source": [
    "#separating X and Y\n",
    "Y = data_lr[\"target\"]\n",
    "X = data_lr.drop(\"target\",axis=1)"
   ]
  },
  {
   "cell_type": "code",
   "execution_count": 0,
   "metadata": {
    "colab": {},
    "colab_type": "code",
    "id": "cFKG5c8228oZ"
   },
   "outputs": [],
   "source": [
    "#let's split X and Y data into test and train datasets, test data is 25% of overall data\n",
    "#splitting the data into train and test sets\n",
    "X0, X1, Y0, Y1 = train_test_split(X, Y, test_size=0.25, shuffle = False)"
   ]
  },
  {
   "cell_type": "code",
   "execution_count": 6,
   "metadata": {
    "colab": {
     "base_uri": "https://localhost:8080/",
     "height": 102
    },
    "colab_type": "code",
    "id": "Spj4s1nf3V2K",
    "outputId": "8ecfc567-4f2d-41fa-a91c-503d85999d37"
   },
   "outputs": [
    {
     "data": {
      "text/plain": [
       "LogisticRegression(C=1.0, class_weight=None, dual=False, fit_intercept=True,\n",
       "                   intercept_scaling=1, l1_ratio=None, max_iter=100,\n",
       "                   multi_class='auto', n_jobs=None, penalty='l2',\n",
       "                   random_state=42, solver='lbfgs', tol=0.0001, verbose=0,\n",
       "                   warm_start=False)"
      ]
     },
     "execution_count": 6,
     "metadata": {
      "tags": []
     },
     "output_type": "execute_result"
    }
   ],
   "source": [
    "#building and fitting the model\n",
    "logit = LogisticRegression(random_state=42)\n",
    "logit.fit(X0,Y0)"
   ]
  },
  {
   "cell_type": "code",
   "execution_count": 0,
   "metadata": {
    "colab": {},
    "colab_type": "code",
    "id": "jvXxXZ9Q3p10"
   },
   "outputs": [],
   "source": [
    "#let's see the order of classes\n",
    "logit.classes_\n",
    "\n",
    "Y0_lr = logit.predict_proba(X0)[:,1]\n",
    "Y1_lr = logit.predict_proba(X1)[:,1]"
   ]
  },
  {
   "cell_type": "code",
   "execution_count": 8,
   "metadata": {
    "colab": {
     "base_uri": "https://localhost:8080/",
     "height": 68
    },
    "colab_type": "code",
    "id": "Fz2qo__E362T",
    "outputId": "1d5f35de-ab5d-4f35-805e-1b06ac5f9d09"
   },
   "outputs": [
    {
     "name": "stdout",
     "output_type": "stream",
     "text": [
      "ROC_AUC Train: 0.52\n",
      "ROC_AUC Test: 0.52\n",
      "Mean 5-fold ROC AUC score for Logit 0.52\n"
     ]
    }
   ],
   "source": [
    "#calculating roc auc score using \n",
    "Logit_Train = roc_auc_score(Y0,Y0_lr).round(2)\n",
    "Logit_Test = roc_auc_score(Y1,Y1_lr).round(2)\n",
    "Logit_Mean5 = np.mean(cross_val_score(estimator=logit,X=X,y=Y,cv=KFold(n_splits=5, shuffle=False, random_state=None), n_jobs=-1, scoring=\"roc_auc\")).round(2)\n",
    "\n",
    "print(\"ROC_AUC Train:\", Logit_Train)\n",
    "print(\"ROC_AUC Test:\", Logit_Train)\n",
    "print(\"Mean 5-fold ROC AUC score for Logit\", Logit_Mean5)"
   ]
  },
  {
   "cell_type": "code",
   "execution_count": 9,
   "metadata": {
    "colab": {
     "base_uri": "https://localhost:8080/",
     "height": 266
    },
    "colab_type": "code",
    "id": "--zY8PlJLxLD",
    "outputId": "1ee09a34-e1df-4e16-cabb-7deb1c112946"
   },
   "outputs": [
    {
     "data": {
      "text/html": [
       "<div>\n",
       "<style scoped>\n",
       "    .dataframe tbody tr th:only-of-type {\n",
       "        vertical-align: middle;\n",
       "    }\n",
       "\n",
       "    .dataframe tbody tr th {\n",
       "        vertical-align: top;\n",
       "    }\n",
       "\n",
       "    .dataframe thead th {\n",
       "        text-align: right;\n",
       "    }\n",
       "</style>\n",
       "<table border=\"1\" class=\"dataframe\">\n",
       "  <thead>\n",
       "    <tr style=\"text-align: right;\">\n",
       "      <th></th>\n",
       "      <th>0</th>\n",
       "    </tr>\n",
       "  </thead>\n",
       "  <tbody>\n",
       "    <tr>\n",
       "      <th>volume_delta</th>\n",
       "      <td>-0.000001</td>\n",
       "    </tr>\n",
       "    <tr>\n",
       "      <th>open_-2_r</th>\n",
       "      <td>-0.026674</td>\n",
       "    </tr>\n",
       "    <tr>\n",
       "      <th>macdh</th>\n",
       "      <td>-0.001517</td>\n",
       "    </tr>\n",
       "    <tr>\n",
       "      <th>cr-ma2_xu_cr-ma1_20_c</th>\n",
       "      <td>0.000153</td>\n",
       "    </tr>\n",
       "    <tr>\n",
       "      <th>dma</th>\n",
       "      <td>0.001092</td>\n",
       "    </tr>\n",
       "    <tr>\n",
       "      <th>pdi</th>\n",
       "      <td>-0.001712</td>\n",
       "    </tr>\n",
       "    <tr>\n",
       "      <th>dx</th>\n",
       "      <td>0.001212</td>\n",
       "    </tr>\n",
       "  </tbody>\n",
       "</table>\n",
       "</div>"
      ],
      "text/plain": [
       "                              0\n",
       "volume_delta          -0.000001\n",
       "open_-2_r             -0.026674\n",
       "macdh                 -0.001517\n",
       "cr-ma2_xu_cr-ma1_20_c  0.000153\n",
       "dma                    0.001092\n",
       "pdi                   -0.001712\n",
       "dx                     0.001212"
      ]
     },
     "execution_count": 9,
     "metadata": {
      "tags": []
     },
     "output_type": "execute_result"
    }
   ],
   "source": [
    "# get importance\n",
    "pd.DataFrame(data=logit.coef_[0],index=X0.columns)"
   ]
  },
  {
   "cell_type": "markdown",
   "metadata": {
    "colab_type": "text",
    "id": "sYWGb2ga4Gq2"
   },
   "source": [
    "# `Tuned Logistic Regression`"
   ]
  },
  {
   "cell_type": "code",
   "execution_count": 10,
   "metadata": {
    "colab": {
     "base_uri": "https://localhost:8080/",
     "height": 119
    },
    "colab_type": "code",
    "id": "htNelPIo4RQt",
    "outputId": "bd3e59f5-7a5a-431f-e99f-64f1d28bb6b3"
   },
   "outputs": [
    {
     "name": "stdout",
     "output_type": "stream",
     "text": [
      "Fitting 5 folds for each of 200 candidates, totalling 1000 fits\n"
     ]
    },
    {
     "name": "stderr",
     "output_type": "stream",
     "text": [
      "[Parallel(n_jobs=-1)]: Using backend LokyBackend with 2 concurrent workers.\n",
      "[Parallel(n_jobs=-1)]: Done  88 tasks      | elapsed:    7.0s\n",
      "[Parallel(n_jobs=-1)]: Done 388 tasks      | elapsed:   29.4s\n",
      "[Parallel(n_jobs=-1)]: Done 888 tasks      | elapsed:  1.1min\n",
      "[Parallel(n_jobs=-1)]: Done 1000 out of 1000 | elapsed:  1.2min finished\n"
     ]
    }
   ],
   "source": [
    "#building GridSearch with Logistic Regression\n",
    "gs_logit = LogisticRegression(random_state=42)\n",
    "\n",
    "param_logit = {\"class_weight\":[\"balanced\",None],\n",
    "            \"C\":np.linspace(0.0001, 1, 100)}\n",
    "\n",
    "\n",
    "logit_gs = GridSearchCV(estimator = gs_logit,\n",
    "                      param_grid = param_logit,\n",
    "                      scoring = \"roc_auc\", cv=KFold(n_splits=5, shuffle=False, random_state=None), verbose=1, n_jobs=-1).fit(X0,Y0)"
   ]
  },
  {
   "cell_type": "code",
   "execution_count": 11,
   "metadata": {
    "colab": {
     "base_uri": "https://localhost:8080/",
     "height": 34
    },
    "colab_type": "code",
    "id": "f6DekSLV4sJc",
    "outputId": "7a7e1629-4556-4f57-f7e5-9158edab0c93"
   },
   "outputs": [
    {
     "data": {
      "text/plain": [
       "{'C': 0.1011, 'class_weight': 'balanced'}"
      ]
     },
     "execution_count": 11,
     "metadata": {
      "tags": []
     },
     "output_type": "execute_result"
    }
   ],
   "source": [
    "#finding out the best parameters\n",
    "logit_gs.best_params_"
   ]
  },
  {
   "cell_type": "code",
   "execution_count": 0,
   "metadata": {
    "colab": {},
    "colab_type": "code",
    "id": "wgHQ21fc41Bg"
   },
   "outputs": [],
   "source": [
    "#building logit with best params and seeing the results\n",
    "pm = logit_gs.best_params_\n",
    "logit_grid = LogisticRegression(C=pm['C'],class_weight=pm['class_weight'],random_state=42).fit(X0,Y0)\n",
    "\n",
    "Y0_lr_gs = logit_grid.predict_proba(X0)[:,1]\n",
    "Y1_lr_gs = logit_grid.predict_proba(X1)[:,1]\n"
   ]
  },
  {
   "cell_type": "code",
   "execution_count": 13,
   "metadata": {
    "colab": {
     "base_uri": "https://localhost:8080/",
     "height": 68
    },
    "colab_type": "code",
    "id": "AtEQ-xwh-csL",
    "outputId": "2195c503-3e7f-4c81-94cc-49b91bf29eae"
   },
   "outputs": [
    {
     "name": "stdout",
     "output_type": "stream",
     "text": [
      "ROC_AUC Train for tuned Logit: 0.52\n",
      "ROC_AUC Test for tuned Logit: 0.54\n",
      "Mean 5-fold ROC AUC score for Tuned Logit 0.52\n"
     ]
    }
   ],
   "source": [
    "#calculating roc auc score using\n",
    "Logit_GS_Train = roc_auc_score(Y0,Y0_lr_gs).round(2)\n",
    "Logit_GS_Test = roc_auc_score(Y1,Y1_lr_gs).round(2)\n",
    "Logit_GS_Mean5 = np.mean(cross_val_score(estimator=logit_grid,X=X,y=Y,cv=KFold(n_splits=5, shuffle=False, random_state=None),n_jobs=-1, scoring=\"roc_auc\")).round(2)\n",
    "\n",
    "print(\"ROC_AUC Train for tuned Logit:\",Logit_GS_Train)\n",
    "print(\"ROC_AUC Test for tuned Logit:\",Logit_GS_Test)\n",
    "print(\"Mean 5-fold ROC AUC score for Tuned Logit\", Logit_GS_Mean5)"
   ]
  },
  {
   "cell_type": "code",
   "execution_count": 14,
   "metadata": {
    "colab": {
     "base_uri": "https://localhost:8080/",
     "height": 266
    },
    "colab_type": "code",
    "id": "WWCRE5IWlH_Z",
    "outputId": "eb9db53f-7b02-4aee-ef5d-18c925c84071"
   },
   "outputs": [
    {
     "data": {
      "text/html": [
       "<div>\n",
       "<style scoped>\n",
       "    .dataframe tbody tr th:only-of-type {\n",
       "        vertical-align: middle;\n",
       "    }\n",
       "\n",
       "    .dataframe tbody tr th {\n",
       "        vertical-align: top;\n",
       "    }\n",
       "\n",
       "    .dataframe thead th {\n",
       "        text-align: right;\n",
       "    }\n",
       "</style>\n",
       "<table border=\"1\" class=\"dataframe\">\n",
       "  <thead>\n",
       "    <tr style=\"text-align: right;\">\n",
       "      <th></th>\n",
       "      <th>0</th>\n",
       "    </tr>\n",
       "  </thead>\n",
       "  <tbody>\n",
       "    <tr>\n",
       "      <th>volume_delta</th>\n",
       "      <td>-9.412183e-07</td>\n",
       "    </tr>\n",
       "    <tr>\n",
       "      <th>open_-2_r</th>\n",
       "      <td>-1.457162e-02</td>\n",
       "    </tr>\n",
       "    <tr>\n",
       "      <th>macdh</th>\n",
       "      <td>-1.027339e-02</td>\n",
       "    </tr>\n",
       "    <tr>\n",
       "      <th>cr-ma2_xu_cr-ma1_20_c</th>\n",
       "      <td>4.132407e-05</td>\n",
       "    </tr>\n",
       "    <tr>\n",
       "      <th>dma</th>\n",
       "      <td>1.155020e-03</td>\n",
       "    </tr>\n",
       "    <tr>\n",
       "      <th>pdi</th>\n",
       "      <td>-1.975110e-03</td>\n",
       "    </tr>\n",
       "    <tr>\n",
       "      <th>dx</th>\n",
       "      <td>1.045904e-03</td>\n",
       "    </tr>\n",
       "  </tbody>\n",
       "</table>\n",
       "</div>"
      ],
      "text/plain": [
       "                                  0\n",
       "volume_delta          -9.412183e-07\n",
       "open_-2_r             -1.457162e-02\n",
       "macdh                 -1.027339e-02\n",
       "cr-ma2_xu_cr-ma1_20_c  4.132407e-05\n",
       "dma                    1.155020e-03\n",
       "pdi                   -1.975110e-03\n",
       "dx                     1.045904e-03"
      ]
     },
     "execution_count": 14,
     "metadata": {
      "tags": []
     },
     "output_type": "execute_result"
    }
   ],
   "source": [
    "# get importance\n",
    "pd.DataFrame(data=logit_grid.coef_[0],index=X0.columns)"
   ]
  },
  {
   "cell_type": "markdown",
   "metadata": {
    "colab_type": "text",
    "id": "MiX5Md-ENYm2"
   },
   "source": [
    "# `Gradient Boosting`"
   ]
  },
  {
   "cell_type": "code",
   "execution_count": 0,
   "metadata": {
    "colab": {},
    "colab_type": "code",
    "id": "LUED6BipPCVW"
   },
   "outputs": [],
   "source": [
    "#making dummes,train test split\n",
    "data_gb = pd.get_dummies(data_gb, drop_first=True)"
   ]
  },
  {
   "cell_type": "code",
   "execution_count": 0,
   "metadata": {
    "colab": {},
    "colab_type": "code",
    "id": "ecLu-OOZPCVm"
   },
   "outputs": [],
   "source": [
    "#separating X and Y\n",
    "Y = data_gb[\"target\"]\n",
    "X = data_gb.drop(\"target\",axis=1)"
   ]
  },
  {
   "cell_type": "code",
   "execution_count": 0,
   "metadata": {
    "colab": {},
    "colab_type": "code",
    "id": "eahDwIbwPCVx"
   },
   "outputs": [],
   "source": [
    "#let's split X and Y data into test and train datasets, test data is 25% of overall data\n",
    "#splitting the data into train and test sets\n",
    "X0, X1, Y0, Y1 = train_test_split(X, Y, test_size=0.25, shuffle = False)"
   ]
  },
  {
   "cell_type": "code",
   "execution_count": 18,
   "metadata": {
    "colab": {
     "base_uri": "https://localhost:8080/",
     "height": 187
    },
    "colab_type": "code",
    "id": "QERt5KzGPCV5",
    "outputId": "88b783b5-d9d7-4788-9fc8-e3501f6a1ce7"
   },
   "outputs": [
    {
     "data": {
      "text/plain": [
       "GradientBoostingClassifier(ccp_alpha=0.0, criterion='friedman_mse', init=None,\n",
       "                           learning_rate=0.1, loss='deviance', max_depth=3,\n",
       "                           max_features=None, max_leaf_nodes=None,\n",
       "                           min_impurity_decrease=0.0, min_impurity_split=None,\n",
       "                           min_samples_leaf=1, min_samples_split=2,\n",
       "                           min_weight_fraction_leaf=0.0, n_estimators=100,\n",
       "                           n_iter_no_change=None, presort='deprecated',\n",
       "                           random_state=42, subsample=1.0, tol=0.0001,\n",
       "                           validation_fraction=0.1, verbose=0,\n",
       "                           warm_start=False)"
      ]
     },
     "execution_count": 18,
     "metadata": {
      "tags": []
     },
     "output_type": "execute_result"
    }
   ],
   "source": [
    "#building and fitting the model\n",
    "gb = GradientBoostingClassifier(random_state=42)\n",
    "gb.fit(X0,Y0)"
   ]
  },
  {
   "cell_type": "code",
   "execution_count": 0,
   "metadata": {
    "colab": {},
    "colab_type": "code",
    "id": "UCNL9QxqPCWC"
   },
   "outputs": [],
   "source": [
    "#let's see the order of classes\n",
    "gb.classes_\n",
    "\n",
    "Y0_gb = gb.predict_proba(X0)[:,1]\n",
    "Y1_gb = gb.predict_proba(X1)[:,1]"
   ]
  },
  {
   "cell_type": "code",
   "execution_count": 20,
   "metadata": {
    "colab": {
     "base_uri": "https://localhost:8080/",
     "height": 68
    },
    "colab_type": "code",
    "id": "V_z7YFN6PCWL",
    "outputId": "de37b540-2351-45d2-c618-6e9662976151"
   },
   "outputs": [
    {
     "name": "stdout",
     "output_type": "stream",
     "text": [
      "ROC_AUC Train: 0.65\n",
      "ROC_AUC Test: 0.65\n",
      "Mean 5-fold ROC AUC score for GB 0.52\n"
     ]
    }
   ],
   "source": [
    "#calculating roc auc score using \n",
    "GB_Train = roc_auc_score(Y0,Y0_gb).round(2)\n",
    "GB_Test = roc_auc_score(Y1,Y1_gb).round(2)\n",
    "GB_Mean5 = np.mean(cross_val_score(estimator=gb,X=X,y=Y,cv=KFold(n_splits=5, shuffle=False, random_state=None), n_jobs=-1, scoring=\"roc_auc\")).round(2)\n",
    "\n",
    "print(\"ROC_AUC Train:\", GB_Train)\n",
    "print(\"ROC_AUC Test:\", GB_Train)\n",
    "print(\"Mean 5-fold ROC AUC score for GB\", GB_Mean5)"
   ]
  },
  {
   "cell_type": "code",
   "execution_count": 21,
   "metadata": {
    "colab": {
     "base_uri": "https://localhost:8080/",
     "height": 266
    },
    "colab_type": "code",
    "id": "doA9x7Nta2Jc",
    "outputId": "30b4fbd3-e73f-4b74-fbcd-e1a0a4b09c55"
   },
   "outputs": [
    {
     "data": {
      "text/html": [
       "<div>\n",
       "<style scoped>\n",
       "    .dataframe tbody tr th:only-of-type {\n",
       "        vertical-align: middle;\n",
       "    }\n",
       "\n",
       "    .dataframe tbody tr th {\n",
       "        vertical-align: top;\n",
       "    }\n",
       "\n",
       "    .dataframe thead th {\n",
       "        text-align: right;\n",
       "    }\n",
       "</style>\n",
       "<table border=\"1\" class=\"dataframe\">\n",
       "  <thead>\n",
       "    <tr style=\"text-align: right;\">\n",
       "      <th></th>\n",
       "      <th>0</th>\n",
       "    </tr>\n",
       "  </thead>\n",
       "  <tbody>\n",
       "    <tr>\n",
       "      <th>volume_delta</th>\n",
       "      <td>0.151597</td>\n",
       "    </tr>\n",
       "    <tr>\n",
       "      <th>open_-2_r</th>\n",
       "      <td>0.182173</td>\n",
       "    </tr>\n",
       "    <tr>\n",
       "      <th>macdh</th>\n",
       "      <td>0.169471</td>\n",
       "    </tr>\n",
       "    <tr>\n",
       "      <th>cr-ma2_xu_cr-ma1_20_c</th>\n",
       "      <td>0.000000</td>\n",
       "    </tr>\n",
       "    <tr>\n",
       "      <th>dma</th>\n",
       "      <td>0.132374</td>\n",
       "    </tr>\n",
       "    <tr>\n",
       "      <th>pdi</th>\n",
       "      <td>0.217874</td>\n",
       "    </tr>\n",
       "    <tr>\n",
       "      <th>dx</th>\n",
       "      <td>0.146511</td>\n",
       "    </tr>\n",
       "  </tbody>\n",
       "</table>\n",
       "</div>"
      ],
      "text/plain": [
       "                              0\n",
       "volume_delta           0.151597\n",
       "open_-2_r              0.182173\n",
       "macdh                  0.169471\n",
       "cr-ma2_xu_cr-ma1_20_c  0.000000\n",
       "dma                    0.132374\n",
       "pdi                    0.217874\n",
       "dx                     0.146511"
      ]
     },
     "execution_count": 21,
     "metadata": {
      "tags": []
     },
     "output_type": "execute_result"
    }
   ],
   "source": [
    "#retrieving the importances of features(independent variables)\n",
    "pd.DataFrame(data=gb.feature_importances_,index=X0.columns)"
   ]
  },
  {
   "cell_type": "markdown",
   "metadata": {
    "colab_type": "text",
    "id": "C37Qh-qTYLIN"
   },
   "source": [
    "# `Tuned Gradient Boosting Classifier`"
   ]
  },
  {
   "cell_type": "code",
   "execution_count": 22,
   "metadata": {
    "colab": {
     "base_uri": "https://localhost:8080/",
     "height": 68
    },
    "colab_type": "code",
    "id": "GrUvD3hnYM_D",
    "outputId": "f0f5c14e-2656-4dc7-a7ce-3c63eef194fc"
   },
   "outputs": [
    {
     "name": "stdout",
     "output_type": "stream",
     "text": [
      "Fitting 5 folds for each of 3 candidates, totalling 15 fits\n"
     ]
    },
    {
     "name": "stderr",
     "output_type": "stream",
     "text": [
      "[Parallel(n_jobs=-1)]: Using backend LokyBackend with 2 concurrent workers.\n",
      "[Parallel(n_jobs=-1)]: Done  15 out of  15 | elapsed:   45.2s finished\n"
     ]
    }
   ],
   "source": [
    "#building GridSearch with Logistic Regression\n",
    "gs_gb = GradientBoostingClassifier(random_state=42)\n",
    "\n",
    "param_gb = { \"max_depth\":[3,5,8] }\n",
    "\n",
    "\n",
    "gb_gs = GridSearchCV(estimator = gs_gb,\n",
    "                      param_grid = param_gb,\n",
    "                      scoring = \"roc_auc\", cv=KFold(n_splits=5, shuffle=False, random_state=None), verbose=1, n_jobs=-1).fit(X0,Y0)"
   ]
  },
  {
   "cell_type": "code",
   "execution_count": 23,
   "metadata": {
    "colab": {
     "base_uri": "https://localhost:8080/",
     "height": 34
    },
    "colab_type": "code",
    "id": "sfO0wHfMYM_V",
    "outputId": "c4fc191b-5eda-4156-9bf9-e7ba80a41fe0"
   },
   "outputs": [
    {
     "data": {
      "text/plain": [
       "{'max_depth': 5}"
      ]
     },
     "execution_count": 23,
     "metadata": {
      "tags": []
     },
     "output_type": "execute_result"
    }
   ],
   "source": [
    "#finding out the best parameters\n",
    "gb_gs.best_params_"
   ]
  },
  {
   "cell_type": "code",
   "execution_count": 0,
   "metadata": {
    "colab": {},
    "colab_type": "code",
    "id": "KF6EPSaaYM_h"
   },
   "outputs": [],
   "source": [
    "#building logit with best params and seeing the results\n",
    "pm = gb_gs.best_params_\n",
    "gb_grid = GradientBoostingClassifier( max_depth = pm['max_depth'],random_state=42).fit(X0,Y0)\n",
    "\n",
    "Y0_gb_gs = gb_grid.predict_proba(X0)[:,1]\n",
    "Y1_gb_gs = gb_grid.predict_proba(X1)[:,1]\n"
   ]
  },
  {
   "cell_type": "code",
   "execution_count": 25,
   "metadata": {
    "colab": {
     "base_uri": "https://localhost:8080/",
     "height": 68
    },
    "colab_type": "code",
    "id": "QZF_W1RWYM_q",
    "outputId": "e4e0b1d4-9ffd-4262-8d45-c60fb2808ba2"
   },
   "outputs": [
    {
     "name": "stdout",
     "output_type": "stream",
     "text": [
      "ROC_AUC Train for tuned GB: 0.8\n",
      "ROC_AUC Test for tuned GB: 0.53\n",
      "Mean 5-fold ROC AUC score for Tuned GB 0.52\n"
     ]
    }
   ],
   "source": [
    "#calculating roc auc score using\n",
    "GB_GS_Train = roc_auc_score(Y0,Y0_gb_gs).round(2)\n",
    "GB_GS_Test = roc_auc_score(Y1,Y1_gb_gs).round(2)\n",
    "GB_GS_Mean5 = np.mean(cross_val_score(estimator=gb_grid,X=X,y=Y,cv=KFold(n_splits=5, shuffle=False, random_state=None),n_jobs=-1, scoring=\"roc_auc\")).round(2)\n",
    "\n",
    "print(\"ROC_AUC Train for tuned GB:\", GB_GS_Train)\n",
    "print(\"ROC_AUC Test for tuned GB:\", GB_GS_Test)\n",
    "print(\"Mean 5-fold ROC AUC score for Tuned GB\", GB_GS_Mean5)"
   ]
  },
  {
   "cell_type": "code",
   "execution_count": 26,
   "metadata": {
    "colab": {
     "base_uri": "https://localhost:8080/",
     "height": 266
    },
    "colab_type": "code",
    "id": "oyjTY4v0YF52",
    "outputId": "1f2a5e0a-0b46-43ba-827c-24a93a5df8fc"
   },
   "outputs": [
    {
     "data": {
      "text/html": [
       "<div>\n",
       "<style scoped>\n",
       "    .dataframe tbody tr th:only-of-type {\n",
       "        vertical-align: middle;\n",
       "    }\n",
       "\n",
       "    .dataframe tbody tr th {\n",
       "        vertical-align: top;\n",
       "    }\n",
       "\n",
       "    .dataframe thead th {\n",
       "        text-align: right;\n",
       "    }\n",
       "</style>\n",
       "<table border=\"1\" class=\"dataframe\">\n",
       "  <thead>\n",
       "    <tr style=\"text-align: right;\">\n",
       "      <th></th>\n",
       "      <th>0</th>\n",
       "    </tr>\n",
       "  </thead>\n",
       "  <tbody>\n",
       "    <tr>\n",
       "      <th>volume_delta</th>\n",
       "      <td>0.173608</td>\n",
       "    </tr>\n",
       "    <tr>\n",
       "      <th>open_-2_r</th>\n",
       "      <td>0.158597</td>\n",
       "    </tr>\n",
       "    <tr>\n",
       "      <th>macdh</th>\n",
       "      <td>0.161819</td>\n",
       "    </tr>\n",
       "    <tr>\n",
       "      <th>cr-ma2_xu_cr-ma1_20_c</th>\n",
       "      <td>0.000000</td>\n",
       "    </tr>\n",
       "    <tr>\n",
       "      <th>dma</th>\n",
       "      <td>0.150363</td>\n",
       "    </tr>\n",
       "    <tr>\n",
       "      <th>pdi</th>\n",
       "      <td>0.186871</td>\n",
       "    </tr>\n",
       "    <tr>\n",
       "      <th>dx</th>\n",
       "      <td>0.168742</td>\n",
       "    </tr>\n",
       "  </tbody>\n",
       "</table>\n",
       "</div>"
      ],
      "text/plain": [
       "                              0\n",
       "volume_delta           0.173608\n",
       "open_-2_r              0.158597\n",
       "macdh                  0.161819\n",
       "cr-ma2_xu_cr-ma1_20_c  0.000000\n",
       "dma                    0.150363\n",
       "pdi                    0.186871\n",
       "dx                     0.168742"
      ]
     },
     "execution_count": 26,
     "metadata": {
      "tags": []
     },
     "output_type": "execute_result"
    }
   ],
   "source": [
    "#retrieving the importances of features(independent variables)\n",
    "pd.DataFrame(data=gb_grid.feature_importances_,index=X0.columns)"
   ]
  },
  {
   "cell_type": "markdown",
   "metadata": {
    "colab_type": "text",
    "id": "NWfrrfVV1Zru"
   },
   "source": [
    "# `Decision Tree`"
   ]
  },
  {
   "cell_type": "code",
   "execution_count": 0,
   "metadata": {
    "colab": {},
    "colab_type": "code",
    "id": "dCUNZBRy4yQE"
   },
   "outputs": [],
   "source": [
    "data_dt = pd.get_dummies(data_dt,drop_first=True)\n",
    "\n",
    "Y = data_dt[\"target\"]\n",
    "X = data_dt.drop(\"target\",axis=1)\n",
    "\n",
    "X0, X1, Y0, Y1 = train_test_split(X,Y,test_size =0.25, shuffle = False)"
   ]
  },
  {
   "cell_type": "code",
   "execution_count": 28,
   "metadata": {
    "colab": {
     "base_uri": "https://localhost:8080/",
     "height": 119
    },
    "colab_type": "code",
    "id": "3DUXcT0a3opr",
    "outputId": "b321bab9-3d05-4a6e-9624-7925339944ff"
   },
   "outputs": [
    {
     "data": {
      "text/plain": [
       "DecisionTreeClassifier(ccp_alpha=0.0, class_weight=None, criterion='gini',\n",
       "                       max_depth=None, max_features=None, max_leaf_nodes=None,\n",
       "                       min_impurity_decrease=0.0, min_impurity_split=None,\n",
       "                       min_samples_leaf=1, min_samples_split=2,\n",
       "                       min_weight_fraction_leaf=0.0, presort='deprecated',\n",
       "                       random_state=42, splitter='best')"
      ]
     },
     "execution_count": 28,
     "metadata": {
      "tags": []
     },
     "output_type": "execute_result"
    }
   ],
   "source": [
    "#building DT with default hyperparameters\n",
    "dt = DecisionTreeClassifier(random_state=42)\n",
    "dt.fit(X0,Y0)"
   ]
  },
  {
   "cell_type": "code",
   "execution_count": 0,
   "metadata": {
    "colab": {},
    "colab_type": "code",
    "id": "ho7s-PWS1gD5"
   },
   "outputs": [],
   "source": [
    "#calculating probabilities\n",
    "Y0_dt=dt.predict_proba(X0)[:,1]\n",
    "Y1_dt=dt.predict_proba(X1)[:,1]"
   ]
  },
  {
   "cell_type": "code",
   "execution_count": 30,
   "metadata": {
    "colab": {
     "base_uri": "https://localhost:8080/",
     "height": 68
    },
    "colab_type": "code",
    "id": "kgDM4G-3-17S",
    "outputId": "e719c646-8b91-4d7e-ae3a-65a90b458617"
   },
   "outputs": [
    {
     "name": "stdout",
     "output_type": "stream",
     "text": [
      "ROC_AUC Train for fully grown DT: 1.0\n",
      "ROC_AUC Test for fully grown DT: 0.51\n",
      "Mean 5-fold ROC AUC score for Decision Tree 0.5\n"
     ]
    }
   ],
   "source": [
    "#printing the ROC AUC scores for training and testing sets\n",
    "DT_Train = roc_auc_score(Y0,Y0_dt).round(2)\n",
    "DT_Test = roc_auc_score(Y1,Y1_dt).round(2)\n",
    "DT_Mean5 = np.mean(cross_val_score(estimator = dt,X=X,y=Y,cv=KFold(n_splits=5, shuffle=False, random_state=None), n_jobs=-1, scoring=\"roc_auc\")).round(2)\n",
    "\n",
    "\n",
    "print(\"ROC_AUC Train for fully grown DT:\",DT_Train)\n",
    "print(\"ROC_AUC Test for fully grown DT:\", DT_Test)\n",
    "print(\"Mean 5-fold ROC AUC score for Decision Tree\", DT_Mean5)"
   ]
  },
  {
   "cell_type": "code",
   "execution_count": 31,
   "metadata": {
    "colab": {
     "base_uri": "https://localhost:8080/",
     "height": 266
    },
    "colab_type": "code",
    "id": "nVYVIf-mOuZ9",
    "outputId": "d6e9b948-787b-49ed-e7c7-292323ccab13"
   },
   "outputs": [
    {
     "data": {
      "text/html": [
       "<div>\n",
       "<style scoped>\n",
       "    .dataframe tbody tr th:only-of-type {\n",
       "        vertical-align: middle;\n",
       "    }\n",
       "\n",
       "    .dataframe tbody tr th {\n",
       "        vertical-align: top;\n",
       "    }\n",
       "\n",
       "    .dataframe thead th {\n",
       "        text-align: right;\n",
       "    }\n",
       "</style>\n",
       "<table border=\"1\" class=\"dataframe\">\n",
       "  <thead>\n",
       "    <tr style=\"text-align: right;\">\n",
       "      <th></th>\n",
       "      <th>0</th>\n",
       "    </tr>\n",
       "  </thead>\n",
       "  <tbody>\n",
       "    <tr>\n",
       "      <th>volume_delta</th>\n",
       "      <td>0.176328</td>\n",
       "    </tr>\n",
       "    <tr>\n",
       "      <th>open_-2_r</th>\n",
       "      <td>0.165603</td>\n",
       "    </tr>\n",
       "    <tr>\n",
       "      <th>macdh</th>\n",
       "      <td>0.152637</td>\n",
       "    </tr>\n",
       "    <tr>\n",
       "      <th>cr-ma2_xu_cr-ma1_20_c</th>\n",
       "      <td>0.000000</td>\n",
       "    </tr>\n",
       "    <tr>\n",
       "      <th>dma</th>\n",
       "      <td>0.158330</td>\n",
       "    </tr>\n",
       "    <tr>\n",
       "      <th>pdi</th>\n",
       "      <td>0.189439</td>\n",
       "    </tr>\n",
       "    <tr>\n",
       "      <th>dx</th>\n",
       "      <td>0.157663</td>\n",
       "    </tr>\n",
       "  </tbody>\n",
       "</table>\n",
       "</div>"
      ],
      "text/plain": [
       "                              0\n",
       "volume_delta           0.176328\n",
       "open_-2_r              0.165603\n",
       "macdh                  0.152637\n",
       "cr-ma2_xu_cr-ma1_20_c  0.000000\n",
       "dma                    0.158330\n",
       "pdi                    0.189439\n",
       "dx                     0.157663"
      ]
     },
     "execution_count": 31,
     "metadata": {
      "tags": []
     },
     "output_type": "execute_result"
    }
   ],
   "source": [
    "#retrieving the importances of features(independent variables)\n",
    "pd.DataFrame(data=dt.feature_importances_,index=X0.columns)"
   ]
  },
  {
   "cell_type": "markdown",
   "metadata": {
    "colab_type": "text",
    "id": "jPmerqG0_hle"
   },
   "source": [
    "# `Tuned Decision Tree`"
   ]
  },
  {
   "cell_type": "code",
   "execution_count": 0,
   "metadata": {
    "colab": {},
    "colab_type": "code",
    "id": "cvMgtpo5-2YS"
   },
   "outputs": [],
   "source": [
    "#setting up parameters for DT's GridSearch\n",
    "param_dt={\"max_depth\":range(1,9),\n",
    "          \"min_samples_leaf\":range(10,150,10),\n",
    "          \"class_weight\":[\"balanced\",None]        \n",
    "            }"
   ]
  },
  {
   "cell_type": "code",
   "execution_count": 33,
   "metadata": {
    "colab": {
     "base_uri": "https://localhost:8080/",
     "height": 357
    },
    "colab_type": "code",
    "id": "PWKzW2Qg_tc1",
    "outputId": "dc5db3e0-8163-4204-c9b6-4ee3e2d6fdd4"
   },
   "outputs": [
    {
     "data": {
      "text/plain": [
       "GridSearchCV(cv=KFold(n_splits=5, random_state=None, shuffle=False),\n",
       "             error_score=nan,\n",
       "             estimator=DecisionTreeClassifier(ccp_alpha=0.0, class_weight=None,\n",
       "                                              criterion='gini', max_depth=None,\n",
       "                                              max_features=None,\n",
       "                                              max_leaf_nodes=None,\n",
       "                                              min_impurity_decrease=0.0,\n",
       "                                              min_impurity_split=None,\n",
       "                                              min_samples_leaf=1,\n",
       "                                              min_samples_split=2,\n",
       "                                              min_weight_fraction_leaf=0.0,\n",
       "                                              presort='deprecated',\n",
       "                                              random_state=42,\n",
       "                                              splitter='best'),\n",
       "             iid='deprecated', n_jobs=-1,\n",
       "             param_grid={'class_weight': ['balanced', None],\n",
       "                         'max_depth': range(1, 9),\n",
       "                         'min_samples_leaf': range(10, 150, 10)},\n",
       "             pre_dispatch='2*n_jobs', refit=True, return_train_score=False,\n",
       "             scoring='roc_auc', verbose=0)"
      ]
     },
     "execution_count": 33,
     "metadata": {
      "tags": []
     },
     "output_type": "execute_result"
    }
   ],
   "source": [
    "#fitting GridSearch with above specified parameters\n",
    "dt_gs = GridSearchCV(estimator = DecisionTreeClassifier(random_state=42), param_grid = param_dt,\n",
    "                  scoring=\"roc_auc\",cv=KFold(n_splits=5, shuffle=False, random_state=None), n_jobs=-1)\n",
    "dt_gs.fit(X0,Y0)"
   ]
  },
  {
   "cell_type": "code",
   "execution_count": 34,
   "metadata": {
    "colab": {
     "base_uri": "https://localhost:8080/",
     "height": 34
    },
    "colab_type": "code",
    "id": "QhTk28Et_3H5",
    "outputId": "1348909b-40a5-43ed-8490-22f2acc047ee"
   },
   "outputs": [
    {
     "data": {
      "text/plain": [
       "{'class_weight': None, 'max_depth': 5, 'min_samples_leaf': 50}"
      ]
     },
     "execution_count": 34,
     "metadata": {
      "tags": []
     },
     "output_type": "execute_result"
    }
   ],
   "source": [
    " dt_gs.best_params_"
   ]
  },
  {
   "cell_type": "code",
   "execution_count": 0,
   "metadata": {
    "colab": {},
    "colab_type": "code",
    "id": "LbwUrvfl_-lD"
   },
   "outputs": [],
   "source": [
    "#fitting the model with best parameters and calculating probabilites\n",
    "pm = dt_gs.best_params_\n",
    "dt_grid = DecisionTreeClassifier(class_weight = pm['class_weight'], max_depth = pm['max_depth'], min_samples_leaf = pm['min_samples_leaf'], random_state=42).fit(X0,Y0)\n",
    "\n",
    "Y0_dt_grid=dt_grid.predict_proba(X0)[:,1]\n",
    "Y1_dt_grid=dt_grid.predict_proba(X1)[:,1]"
   ]
  },
  {
   "cell_type": "code",
   "execution_count": 36,
   "metadata": {
    "colab": {
     "base_uri": "https://localhost:8080/",
     "height": 68
    },
    "colab_type": "code",
    "id": "uYqQLq7XAEcE",
    "outputId": "16460576-4084-4678-c903-2e045d44fee3"
   },
   "outputs": [
    {
     "name": "stdout",
     "output_type": "stream",
     "text": [
      "ROC_AUC Train for tuned DT: 0.56\n",
      "ROC_AUC Test for tuned DT: 0.53\n",
      "Mean 5-fold ROC AUC score for Tuned Decision Tree 0.52\n"
     ]
    }
   ],
   "source": [
    "#printing the ROC AUC scores for training and testing sets\n",
    "DT_GS_Train = roc_auc_score(Y0,Y0_dt_grid).round(2)\n",
    "DT_GS_Test = roc_auc_score(Y1,Y1_dt_grid).round(2)\n",
    "DT_GS_Mean5 = np.mean(cross_val_score(estimator = dt_grid,X=X,y=Y,cv=KFold(n_splits=5, shuffle=False, random_state=None),n_jobs=-1, scoring=\"roc_auc\")).round(2)\n",
    "\n",
    "\n",
    "print(\"ROC_AUC Train for tuned DT:\",DT_GS_Train)\n",
    "print(\"ROC_AUC Test for tuned DT:\", DT_GS_Test)\n",
    "print(\"Mean 5-fold ROC AUC score for Tuned Decision Tree\", DT_GS_Mean5)"
   ]
  },
  {
   "cell_type": "code",
   "execution_count": 37,
   "metadata": {
    "colab": {
     "base_uri": "https://localhost:8080/",
     "height": 266
    },
    "colab_type": "code",
    "id": "NHHicSNxPA8n",
    "outputId": "33ab6383-3dd8-4e81-f305-b7da1ec84eac"
   },
   "outputs": [
    {
     "data": {
      "text/html": [
       "<div>\n",
       "<style scoped>\n",
       "    .dataframe tbody tr th:only-of-type {\n",
       "        vertical-align: middle;\n",
       "    }\n",
       "\n",
       "    .dataframe tbody tr th {\n",
       "        vertical-align: top;\n",
       "    }\n",
       "\n",
       "    .dataframe thead th {\n",
       "        text-align: right;\n",
       "    }\n",
       "</style>\n",
       "<table border=\"1\" class=\"dataframe\">\n",
       "  <thead>\n",
       "    <tr style=\"text-align: right;\">\n",
       "      <th></th>\n",
       "      <th>0</th>\n",
       "    </tr>\n",
       "  </thead>\n",
       "  <tbody>\n",
       "    <tr>\n",
       "      <th>volume_delta</th>\n",
       "      <td>0.129583</td>\n",
       "    </tr>\n",
       "    <tr>\n",
       "      <th>open_-2_r</th>\n",
       "      <td>0.306292</td>\n",
       "    </tr>\n",
       "    <tr>\n",
       "      <th>macdh</th>\n",
       "      <td>0.042347</td>\n",
       "    </tr>\n",
       "    <tr>\n",
       "      <th>cr-ma2_xu_cr-ma1_20_c</th>\n",
       "      <td>0.000000</td>\n",
       "    </tr>\n",
       "    <tr>\n",
       "      <th>dma</th>\n",
       "      <td>0.240666</td>\n",
       "    </tr>\n",
       "    <tr>\n",
       "      <th>pdi</th>\n",
       "      <td>0.214474</td>\n",
       "    </tr>\n",
       "    <tr>\n",
       "      <th>dx</th>\n",
       "      <td>0.066637</td>\n",
       "    </tr>\n",
       "  </tbody>\n",
       "</table>\n",
       "</div>"
      ],
      "text/plain": [
       "                              0\n",
       "volume_delta           0.129583\n",
       "open_-2_r              0.306292\n",
       "macdh                  0.042347\n",
       "cr-ma2_xu_cr-ma1_20_c  0.000000\n",
       "dma                    0.240666\n",
       "pdi                    0.214474\n",
       "dx                     0.066637"
      ]
     },
     "execution_count": 37,
     "metadata": {
      "tags": []
     },
     "output_type": "execute_result"
    }
   ],
   "source": [
    "#retrieving the importances of features(independent variables)\n",
    "pd.DataFrame(data=dt_grid.feature_importances_,index=X0.columns)"
   ]
  },
  {
   "cell_type": "markdown",
   "metadata": {
    "colab_type": "text",
    "id": "J7QdLghl1hsd"
   },
   "source": [
    "# `Random Forest`"
   ]
  },
  {
   "cell_type": "code",
   "execution_count": 0,
   "metadata": {
    "colab": {},
    "colab_type": "code",
    "id": "vVQn8adgAuQv"
   },
   "outputs": [],
   "source": [
    "data_rf = pd.get_dummies(data_rf,drop_first=True)\n",
    "\n",
    "Y = data_rf[\"target\"]\n",
    "X = data_rf.drop(\"target\",axis=1)\n",
    "\n",
    "X0, X1, Y0, Y1 = train_test_split(X,Y,test_size =0.25, shuffle = False)"
   ]
  },
  {
   "cell_type": "code",
   "execution_count": 39,
   "metadata": {
    "colab": {
     "base_uri": "https://localhost:8080/",
     "height": 153
    },
    "colab_type": "code",
    "id": "Sbl2y98jAuqy",
    "outputId": "e5332126-2f7d-4f45-be52-b05074d9c4ee"
   },
   "outputs": [
    {
     "data": {
      "text/plain": [
       "RandomForestClassifier(bootstrap=True, ccp_alpha=0.0, class_weight=None,\n",
       "                       criterion='gini', max_depth=None, max_features='auto',\n",
       "                       max_leaf_nodes=None, max_samples=None,\n",
       "                       min_impurity_decrease=0.0, min_impurity_split=None,\n",
       "                       min_samples_leaf=1, min_samples_split=2,\n",
       "                       min_weight_fraction_leaf=0.0, n_estimators=100,\n",
       "                       n_jobs=None, oob_score=False, random_state=42, verbose=0,\n",
       "                       warm_start=False)"
      ]
     },
     "execution_count": 39,
     "metadata": {
      "tags": []
     },
     "output_type": "execute_result"
    }
   ],
   "source": [
    "#building DT with default hyperparameters\n",
    "rf = RandomForestClassifier(random_state=42)\n",
    "rf.fit(X0,Y0)"
   ]
  },
  {
   "cell_type": "code",
   "execution_count": 0,
   "metadata": {
    "colab": {},
    "colab_type": "code",
    "id": "_kWFN0YrAu4y"
   },
   "outputs": [],
   "source": [
    "#calculating probabilities\n",
    "Y0_rf = rf.predict_proba(X0)[:,1]\n",
    "Y1_rf = rf.predict_proba(X1)[:,1]"
   ]
  },
  {
   "cell_type": "code",
   "execution_count": 41,
   "metadata": {
    "colab": {
     "base_uri": "https://localhost:8080/",
     "height": 68
    },
    "colab_type": "code",
    "id": "oNVE3GD9AvIr",
    "outputId": "a7a62bbc-86b4-4e7a-c1ba-6ea04253ccb7"
   },
   "outputs": [
    {
     "name": "stdout",
     "output_type": "stream",
     "text": [
      "ROC_AUC Train for RF: 1.0\n",
      "ROC_AUC Test for RF: 0.52\n",
      "Mean 5-fold ROC AUC score for RF 0.51\n"
     ]
    }
   ],
   "source": [
    "#printing the ROC AUC scores for training and testing sets\n",
    "RF_Train = roc_auc_score(Y0,Y0_rf).round(2)\n",
    "RF_Test = roc_auc_score(Y1,Y1_rf).round(2)\n",
    "RF_Mean5 = np.mean(cross_val_score(estimator = rf,X=X,y=Y,cv=KFold(n_splits=5, shuffle=False, random_state=None),n_jobs=-1, scoring=\"roc_auc\")).round(2)\n",
    "\n",
    "print(\"ROC_AUC Train for RF:\",RF_Train)\n",
    "print(\"ROC_AUC Test for RF:\", RF_Test)\n",
    "print(\"Mean 5-fold ROC AUC score for RF\", RF_Mean5)"
   ]
  },
  {
   "cell_type": "code",
   "execution_count": 42,
   "metadata": {
    "colab": {
     "base_uri": "https://localhost:8080/",
     "height": 266
    },
    "colab_type": "code",
    "id": "0M1XKZCDPiwT",
    "outputId": "561ff84a-0ee6-4711-b331-49ab5b6cca0d"
   },
   "outputs": [
    {
     "data": {
      "text/html": [
       "<div>\n",
       "<style scoped>\n",
       "    .dataframe tbody tr th:only-of-type {\n",
       "        vertical-align: middle;\n",
       "    }\n",
       "\n",
       "    .dataframe tbody tr th {\n",
       "        vertical-align: top;\n",
       "    }\n",
       "\n",
       "    .dataframe thead th {\n",
       "        text-align: right;\n",
       "    }\n",
       "</style>\n",
       "<table border=\"1\" class=\"dataframe\">\n",
       "  <thead>\n",
       "    <tr style=\"text-align: right;\">\n",
       "      <th></th>\n",
       "      <th>0</th>\n",
       "    </tr>\n",
       "  </thead>\n",
       "  <tbody>\n",
       "    <tr>\n",
       "      <th>volume_delta</th>\n",
       "      <td>0.167046</td>\n",
       "    </tr>\n",
       "    <tr>\n",
       "      <th>open_-2_r</th>\n",
       "      <td>0.167720</td>\n",
       "    </tr>\n",
       "    <tr>\n",
       "      <th>macdh</th>\n",
       "      <td>0.165336</td>\n",
       "    </tr>\n",
       "    <tr>\n",
       "      <th>cr-ma2_xu_cr-ma1_20_c</th>\n",
       "      <td>0.000008</td>\n",
       "    </tr>\n",
       "    <tr>\n",
       "      <th>dma</th>\n",
       "      <td>0.165027</td>\n",
       "    </tr>\n",
       "    <tr>\n",
       "      <th>pdi</th>\n",
       "      <td>0.167834</td>\n",
       "    </tr>\n",
       "    <tr>\n",
       "      <th>dx</th>\n",
       "      <td>0.167030</td>\n",
       "    </tr>\n",
       "  </tbody>\n",
       "</table>\n",
       "</div>"
      ],
      "text/plain": [
       "                              0\n",
       "volume_delta           0.167046\n",
       "open_-2_r              0.167720\n",
       "macdh                  0.165336\n",
       "cr-ma2_xu_cr-ma1_20_c  0.000008\n",
       "dma                    0.165027\n",
       "pdi                    0.167834\n",
       "dx                     0.167030"
      ]
     },
     "execution_count": 42,
     "metadata": {
      "tags": []
     },
     "output_type": "execute_result"
    }
   ],
   "source": [
    "#retrieving the importances of features(independent variables)\n",
    "pd.DataFrame(data=rf.feature_importances_,index=X0.columns)"
   ]
  },
  {
   "cell_type": "markdown",
   "metadata": {
    "colab_type": "text",
    "id": "tLZVf6EFCO5b"
   },
   "source": [
    "# `Tuned Random Forest`"
   ]
  },
  {
   "cell_type": "code",
   "execution_count": 43,
   "metadata": {
    "colab": {
     "base_uri": "https://localhost:8080/",
     "height": 34
    },
    "colab_type": "code",
    "id": "HLVWWmGu1lTJ",
    "outputId": "f6a0e9ea-1593-472c-ffba-c54d28f74771"
   },
   "outputs": [
    {
     "name": "stdout",
     "output_type": "stream",
     "text": [
      "{'max_depth': range(1, 9), 'min_samples_leaf': range(10, 150, 10), 'class_weight': ['balanced', None]}\n"
     ]
    }
   ],
   "source": [
    "print(param_dt)"
   ]
  },
  {
   "cell_type": "code",
   "execution_count": 0,
   "metadata": {
    "colab": {},
    "colab_type": "code",
    "id": "jPEAIJocAc6-"
   },
   "outputs": [],
   "source": [
    "#building GridSearch for RF using DT's hyperparameters ranges\n",
    "gs_rf = GridSearchCV(estimator = RandomForestClassifier(random_state=42),\n",
    "                  param_grid = param_dt, scoring=\"roc_auc\", cv=KFold(n_splits=5, shuffle=False, random_state=None), n_jobs=-1).fit(X0,Y0)"
   ]
  },
  {
   "cell_type": "code",
   "execution_count": 45,
   "metadata": {
    "colab": {
     "base_uri": "https://localhost:8080/",
     "height": 34
    },
    "colab_type": "code",
    "id": "u0QGNcU2AkTo",
    "outputId": "041177f7-f947-47d4-b7ac-07a52d202c60"
   },
   "outputs": [
    {
     "data": {
      "text/plain": [
       "{'class_weight': None, 'max_depth': 5, 'min_samples_leaf': 140}"
      ]
     },
     "execution_count": 45,
     "metadata": {
      "tags": []
     },
     "output_type": "execute_result"
    }
   ],
   "source": [
    " #outlining best parameters\n",
    "gs_rf.best_params_"
   ]
  },
  {
   "cell_type": "code",
   "execution_count": 0,
   "metadata": {
    "colab": {},
    "colab_type": "code",
    "id": "0o8WtRXRArPK"
   },
   "outputs": [],
   "source": [
    "#fitting the model and calculating probabilities\n",
    "pm = gs_rf.best_params_\n",
    "rf_grid = RandomForestClassifier(class_weight = pm['class_weight'], max_depth = pm['max_depth'], min_samples_leaf = pm['min_samples_leaf'], random_state=42).fit(X0,Y0)\n",
    "\n",
    "Y0_rf_grid=rf_grid.predict_proba(X0)[:,1]\n",
    "Y1_rf_grid=rf_grid.predict_proba(X1)[:,1]"
   ]
  },
  {
   "cell_type": "code",
   "execution_count": 47,
   "metadata": {
    "colab": {
     "base_uri": "https://localhost:8080/",
     "height": 68
    },
    "colab_type": "code",
    "id": "2i1D6L1hCvk9",
    "outputId": "6c79f172-aa07-4549-ecca-25971093d70f"
   },
   "outputs": [
    {
     "name": "stdout",
     "output_type": "stream",
     "text": [
      "ROC_AUC Train for tuned RF: 0.59\n",
      "ROC_AUC Test for tuned RF: 0.55\n",
      "Mean 5-fold ROC AUC score for tuned RF 0.53\n"
     ]
    }
   ],
   "source": [
    "#printing the ROC AUC scores for training and testing sets\n",
    "RF_GS_Train = roc_auc_score(Y0,Y0_rf_grid).round(2)\n",
    "RF_GS_Test = roc_auc_score(Y1,Y1_rf_grid).round(2)\n",
    "RF_GS_Mean5 = np.mean(cross_val_score(estimator = rf_grid,X=X,y=Y,cv=KFold(n_splits=5, shuffle=False, random_state=None),n_jobs=-1, scoring=\"roc_auc\")).round(2)\n",
    "\n",
    "\n",
    "print(\"ROC_AUC Train for tuned RF:\",RF_GS_Train)\n",
    "print(\"ROC_AUC Test for tuned RF:\", RF_GS_Test)\n",
    "print(\"Mean 5-fold ROC AUC score for tuned RF\", RF_GS_Mean5)"
   ]
  },
  {
   "cell_type": "code",
   "execution_count": 48,
   "metadata": {
    "colab": {
     "base_uri": "https://localhost:8080/",
     "height": 266
    },
    "colab_type": "code",
    "id": "LqZfaeJdPgCR",
    "outputId": "4c09e3ce-551a-408d-8347-4c1d9a4ba755"
   },
   "outputs": [
    {
     "data": {
      "text/html": [
       "<div>\n",
       "<style scoped>\n",
       "    .dataframe tbody tr th:only-of-type {\n",
       "        vertical-align: middle;\n",
       "    }\n",
       "\n",
       "    .dataframe tbody tr th {\n",
       "        vertical-align: top;\n",
       "    }\n",
       "\n",
       "    .dataframe thead th {\n",
       "        text-align: right;\n",
       "    }\n",
       "</style>\n",
       "<table border=\"1\" class=\"dataframe\">\n",
       "  <thead>\n",
       "    <tr style=\"text-align: right;\">\n",
       "      <th></th>\n",
       "      <th>0</th>\n",
       "    </tr>\n",
       "  </thead>\n",
       "  <tbody>\n",
       "    <tr>\n",
       "      <th>volume_delta</th>\n",
       "      <td>0.145147</td>\n",
       "    </tr>\n",
       "    <tr>\n",
       "      <th>open_-2_r</th>\n",
       "      <td>0.197188</td>\n",
       "    </tr>\n",
       "    <tr>\n",
       "      <th>macdh</th>\n",
       "      <td>0.143481</td>\n",
       "    </tr>\n",
       "    <tr>\n",
       "      <th>cr-ma2_xu_cr-ma1_20_c</th>\n",
       "      <td>0.000000</td>\n",
       "    </tr>\n",
       "    <tr>\n",
       "      <th>dma</th>\n",
       "      <td>0.158925</td>\n",
       "    </tr>\n",
       "    <tr>\n",
       "      <th>pdi</th>\n",
       "      <td>0.202395</td>\n",
       "    </tr>\n",
       "    <tr>\n",
       "      <th>dx</th>\n",
       "      <td>0.152864</td>\n",
       "    </tr>\n",
       "  </tbody>\n",
       "</table>\n",
       "</div>"
      ],
      "text/plain": [
       "                              0\n",
       "volume_delta           0.145147\n",
       "open_-2_r              0.197188\n",
       "macdh                  0.143481\n",
       "cr-ma2_xu_cr-ma1_20_c  0.000000\n",
       "dma                    0.158925\n",
       "pdi                    0.202395\n",
       "dx                     0.152864"
      ]
     },
     "execution_count": 48,
     "metadata": {
      "tags": []
     },
     "output_type": "execute_result"
    }
   ],
   "source": [
    "#retrieving the importances of features(independent variables)\n",
    "pd.DataFrame(data=rf_grid.feature_importances_,index=X0.columns)"
   ]
  },
  {
   "cell_type": "markdown",
   "metadata": {
    "colab_type": "text",
    "id": "feQnxj_5baFx"
   },
   "source": [
    "# `Summary`"
   ]
  },
  {
   "cell_type": "code",
   "execution_count": 49,
   "metadata": {
    "colab": {
     "base_uri": "https://localhost:8080/",
     "height": 153
    },
    "colab_type": "code",
    "id": "mq_OT7iRV6Nn",
    "outputId": "24d71e13-391a-400d-cfe7-75df2ca6b480"
   },
   "outputs": [
    {
     "name": "stdout",
     "output_type": "stream",
     "text": [
      "Mean 5-fold ROC AUC score for LR 0.52\n",
      "Mean 5-fold ROC AUC score for Tuned LR 0.52\n",
      "Mean 5-fold ROC AUC score for GB 0.52\n",
      "Mean 5-fold ROC AUC score for Tuned GB 0.52\n",
      "Mean 5-fold ROC AUC score for DT 0.5\n",
      "Mean 5-fold ROC AUC score for Tuned DT 0.52\n",
      "Mean 5-fold ROC AUC score for RF 0.51\n",
      "Mean 5-fold ROC AUC score for Tuned RF 0.53\n"
     ]
    }
   ],
   "source": [
    "#Picking the best model based on mean 5-fold cross validation score.\n",
    "\n",
    "print(\"Mean 5-fold ROC AUC score for LR\",Logit_Mean5)\n",
    "print(\"Mean 5-fold ROC AUC score for Tuned LR\",Logit_GS_Mean5)\n",
    "\n",
    "print(\"Mean 5-fold ROC AUC score for GB\", GB_Mean5)\n",
    "print(\"Mean 5-fold ROC AUC score for Tuned GB\", GB_GS_Mean5)\n",
    "\n",
    "print(\"Mean 5-fold ROC AUC score for DT\", DT_Mean5)\n",
    "print(\"Mean 5-fold ROC AUC score for Tuned DT\",DT_GS_Mean5)\n",
    "\n",
    "print(\"Mean 5-fold ROC AUC score for RF\", RF_Mean5)\n",
    "print(\"Mean 5-fold ROC AUC score for Tuned RF\", RF_GS_Mean5)\n",
    "\n"
   ]
  }
 ],
 "metadata": {
  "accelerator": "GPU",
  "colab": {
   "collapsed_sections": [
    "lwJeOsCDbUAN",
    "7uKCJA-I1PML",
    "MiX5Md-ENYm2",
    "C37Qh-qTYLIN",
    "NWfrrfVV1Zru",
    "jPmerqG0_hle",
    "J7QdLghl1hsd",
    "tLZVf6EFCO5b",
    "feQnxj_5baFx"
   ],
   "name": " FilteredDataset2.ipynb",
   "provenance": []
  },
  "kernelspec": {
   "display_name": "Python 3",
   "language": "python",
   "name": "python3"
  },
  "language_info": {
   "codemirror_mode": {
    "name": "ipython",
    "version": 3
   },
   "file_extension": ".py",
   "mimetype": "text/x-python",
   "name": "python",
   "nbconvert_exporter": "python",
   "pygments_lexer": "ipython3",
   "version": "3.7.1"
  }
 },
 "nbformat": 4,
 "nbformat_minor": 1
}
