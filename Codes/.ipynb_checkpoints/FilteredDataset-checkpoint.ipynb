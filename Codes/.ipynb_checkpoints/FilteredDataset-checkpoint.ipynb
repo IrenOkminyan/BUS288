{
 "cells": [
  {
   "cell_type": "markdown",
   "metadata": {
    "colab_type": "text",
    "id": "lwJeOsCDbUAN"
   },
   "source": [
    "# `Importing libraries and the dataset`"
   ]
  },
  {
   "cell_type": "code",
   "execution_count": 1,
   "metadata": {
    "colab": {
     "base_uri": "https://localhost:8080/",
     "height": 0
    },
    "colab_type": "code",
    "id": "iGzbC6YKythr",
    "outputId": "036a06d0-f29e-4e7c-e8f0-34e5b0a05725"
   },
   "outputs": [
    {
     "name": "stdout",
     "output_type": "stream",
     "text": [
      "Collecting scikit-plot\n",
      "  Downloading https://files.pythonhosted.org/packages/7c/47/32520e259340c140a4ad27c1b97050dd3254fdc517b1d59974d47037510e/scikit_plot-0.3.7-py3-none-any.whl\n",
      "Requirement already satisfied: joblib>=0.10 in /usr/local/lib/python3.6/dist-packages (from scikit-plot) (0.14.1)\n",
      "Requirement already satisfied: scipy>=0.9 in /usr/local/lib/python3.6/dist-packages (from scikit-plot) (1.4.1)\n",
      "Requirement already satisfied: matplotlib>=1.4.0 in /usr/local/lib/python3.6/dist-packages (from scikit-plot) (3.2.1)\n",
      "Requirement already satisfied: scikit-learn>=0.18 in /usr/local/lib/python3.6/dist-packages (from scikit-plot) (0.22.2.post1)\n",
      "Requirement already satisfied: numpy>=1.13.3 in /usr/local/lib/python3.6/dist-packages (from scipy>=0.9->scikit-plot) (1.18.4)\n",
      "Requirement already satisfied: cycler>=0.10 in /usr/local/lib/python3.6/dist-packages (from matplotlib>=1.4.0->scikit-plot) (0.10.0)\n",
      "Requirement already satisfied: kiwisolver>=1.0.1 in /usr/local/lib/python3.6/dist-packages (from matplotlib>=1.4.0->scikit-plot) (1.2.0)\n",
      "Requirement already satisfied: python-dateutil>=2.1 in /usr/local/lib/python3.6/dist-packages (from matplotlib>=1.4.0->scikit-plot) (2.8.1)\n",
      "Requirement already satisfied: pyparsing!=2.0.4,!=2.1.2,!=2.1.6,>=2.0.1 in /usr/local/lib/python3.6/dist-packages (from matplotlib>=1.4.0->scikit-plot) (2.4.7)\n",
      "Requirement already satisfied: six in /usr/local/lib/python3.6/dist-packages (from cycler>=0.10->matplotlib>=1.4.0->scikit-plot) (1.12.0)\n",
      "Installing collected packages: scikit-plot\n",
      "Successfully installed scikit-plot-0.3.7\n"
     ]
    },
    {
     "name": "stderr",
     "output_type": "stream",
     "text": [
      "/usr/local/lib/python3.6/dist-packages/statsmodels/tools/_testing.py:19: FutureWarning: pandas.util.testing is deprecated. Use the functions in the public API at pandas.testing instead.\n",
      "  import pandas.util.testing as tm\n"
     ]
    }
   ],
   "source": [
    "!pip install scikit-plot \n",
    "#data manipulation and visualization libraries\n",
    "import numpy as np\n",
    "import pandas as pd\n",
    "import matplotlib.pyplot as plt\n",
    "import seaborn as sns\n",
    "from collections import defaultdict\n",
    "\n",
    "#libraries for modelling and evaluation\n",
    "from sklearn.linear_model import LogisticRegression\n",
    "from sklearn.ensemble import GradientBoostingClassifier\n",
    "from sklearn.tree import DecisionTreeClassifier\n",
    "from sklearn.ensemble import RandomForestClassifier\n",
    "from sklearn.model_selection import train_test_split, GridSearchCV,cross_val_score\n",
    "from sklearn.metrics import classification_report\n",
    "from sklearn.metrics import roc_auc_score,roc_curve\n",
    "from sklearn.model_selection import KFold\n",
    "import scikitplot as skplt \n",
    "import warnings\n",
    "warnings.filterwarnings('ignore')"
   ]
  },
  {
   "cell_type": "code",
   "execution_count": 0,
   "metadata": {
    "colab": {},
    "colab_type": "code",
    "id": "GM_v9XdH0vKf"
   },
   "outputs": [],
   "source": [
    " #importing the data and making a dataframe\n",
    "data = pd.read_csv('https://raw.githubusercontent.com/IrenOkminyan/BUS288/master/ETH_USDT.csv')\n",
    "data.dropna(inplace=True)\n",
    "data=data.drop(['close_10.0_le_5_c'],axis=1)\n",
    "data=data.drop(['close_10.0_ge_5_fc', 'cci_20', 'wr_6', 'rsi_12', 'trix_9_sma', 'open_2_sma', 'macds', 'boll', 'boll_lb', 'kdjj', 'kdjd', 'rsi_6', 'wr_10', 'cci', 'macd', 'boll_ub', 'adx', 'adxr', 'tema'],axis=1)\n",
    "data=data.drop(['atr', 'vr', 'vr_6_sma','Open', 'Close', 'High', 'Low', 'volume_-3~1_min', 'kdjk', 'trix', 'cr', 'cr-ma1', 'cr-ma2', 'cr-ma3'], axis = 1)\n",
    "data=data.drop(['Volume', 'Number_of_trades', 'mdi', 'tr', 'volume_-3,2,-1_max'], axis = 1)\n",
    "\n",
    "data.set_index(keys='Close_time', inplace=True)\n",
    "data.target=data.target.map({-1:0, 1:1})\n",
    "\n",
    "data_lr = data\n",
    "data_gb = data\n",
    "data_dt = data\n",
    "data_rf = data"
   ]
  },
  {
   "cell_type": "markdown",
   "metadata": {
    "colab_type": "text",
    "id": "7uKCJA-I1PML"
   },
   "source": [
    "# `Logistic Regression`"
   ]
  },
  {
   "cell_type": "code",
   "execution_count": 0,
   "metadata": {
    "colab": {},
    "colab_type": "code",
    "id": "1p8b-StT1X8A"
   },
   "outputs": [],
   "source": [
    "#making dummes,train test split\n",
    "data_lr = pd.get_dummies(data_lr, drop_first=True)"
   ]
  },
  {
   "cell_type": "code",
   "execution_count": 0,
   "metadata": {
    "colab": {},
    "colab_type": "code",
    "id": "G-iKqCyq1ZNZ"
   },
   "outputs": [],
   "source": [
    "#separating X and Y\n",
    "Y = data_lr[\"target\"]\n",
    "X = data_lr.drop(\"target\",axis=1)"
   ]
  },
  {
   "cell_type": "code",
   "execution_count": 0,
   "metadata": {
    "colab": {},
    "colab_type": "code",
    "id": "cFKG5c8228oZ"
   },
   "outputs": [],
   "source": [
    "#let's split X and Y data into test and train datasets, test data is 25% of overall data\n",
    "#splitting the data into train and test sets\n",
    "X0, X1, Y0, Y1 = train_test_split(X, Y, test_size=0.25, shuffle = False)"
   ]
  },
  {
   "cell_type": "code",
   "execution_count": 6,
   "metadata": {
    "colab": {
     "base_uri": "https://localhost:8080/",
     "height": 0
    },
    "colab_type": "code",
    "id": "Spj4s1nf3V2K",
    "outputId": "922850a0-d583-47cf-baea-c3e4bdf9f22e"
   },
   "outputs": [
    {
     "data": {
      "text/plain": [
       "LogisticRegression(C=1.0, class_weight=None, dual=False, fit_intercept=True,\n",
       "                   intercept_scaling=1, l1_ratio=None, max_iter=100,\n",
       "                   multi_class='auto', n_jobs=None, penalty='l2',\n",
       "                   random_state=42, solver='lbfgs', tol=0.0001, verbose=0,\n",
       "                   warm_start=False)"
      ]
     },
     "execution_count": 6,
     "metadata": {
      "tags": []
     },
     "output_type": "execute_result"
    }
   ],
   "source": [
    "#building and fitting the model\n",
    "logit = LogisticRegression(random_state=42)\n",
    "logit.fit(X0,Y0)"
   ]
  },
  {
   "cell_type": "code",
   "execution_count": 0,
   "metadata": {
    "colab": {},
    "colab_type": "code",
    "id": "jvXxXZ9Q3p10"
   },
   "outputs": [],
   "source": [
    "#let's see the order of classes\n",
    "logit.classes_\n",
    "\n",
    "Y0_lr = logit.predict_proba(X0)[:,1]\n",
    "Y1_lr = logit.predict_proba(X1)[:,1]"
   ]
  },
  {
   "cell_type": "code",
   "execution_count": 8,
   "metadata": {
    "colab": {
     "base_uri": "https://localhost:8080/",
     "height": 0
    },
    "colab_type": "code",
    "id": "Fz2qo__E362T",
    "outputId": "339ea5d2-8f1b-461d-e5b2-db3f17bb7b16"
   },
   "outputs": [
    {
     "name": "stdout",
     "output_type": "stream",
     "text": [
      "ROC_AUC Train: 0.75\n",
      "ROC_AUC Test: 0.75\n",
      "Mean 5-fold ROC AUC score for Logit 0.76\n"
     ]
    }
   ],
   "source": [
    "#calculating roc auc score using \n",
    "Logit_Train = roc_auc_score(Y0,Y0_lr).round(2)\n",
    "Logit_Test = roc_auc_score(Y1,Y1_lr).round(2)\n",
    "Logit_Mean5 = np.mean(cross_val_score(estimator=logit,X=X,y=Y,cv=KFold(n_splits=5, shuffle=False, random_state=None), n_jobs=-1, scoring=\"roc_auc\")).round(2)\n",
    "\n",
    "print(\"ROC_AUC Train:\", Logit_Train)\n",
    "print(\"ROC_AUC Test:\", Logit_Train)\n",
    "print(\"Mean 5-fold ROC AUC score for Logit\", Logit_Mean5)"
   ]
  },
  {
   "cell_type": "code",
   "execution_count": 9,
   "metadata": {
    "colab": {
     "base_uri": "https://localhost:8080/",
     "height": 0
    },
    "colab_type": "code",
    "id": "--zY8PlJLxLD",
    "outputId": "196637f2-50ce-4aa4-c701-de1880a8f9db"
   },
   "outputs": [
    {
     "data": {
      "text/html": [
       "<div>\n",
       "<style scoped>\n",
       "    .dataframe tbody tr th:only-of-type {\n",
       "        vertical-align: middle;\n",
       "    }\n",
       "\n",
       "    .dataframe tbody tr th {\n",
       "        vertical-align: top;\n",
       "    }\n",
       "\n",
       "    .dataframe thead th {\n",
       "        text-align: right;\n",
       "    }\n",
       "</style>\n",
       "<table border=\"1\" class=\"dataframe\">\n",
       "  <thead>\n",
       "    <tr style=\"text-align: right;\">\n",
       "      <th></th>\n",
       "      <th>0</th>\n",
       "    </tr>\n",
       "  </thead>\n",
       "  <tbody>\n",
       "    <tr>\n",
       "      <th>volume_delta</th>\n",
       "      <td>0.000001</td>\n",
       "    </tr>\n",
       "    <tr>\n",
       "      <th>open_2_d</th>\n",
       "      <td>-0.127046</td>\n",
       "    </tr>\n",
       "    <tr>\n",
       "      <th>open_-2_r</th>\n",
       "      <td>0.112975</td>\n",
       "    </tr>\n",
       "    <tr>\n",
       "      <th>macdh</th>\n",
       "      <td>-0.070668</td>\n",
       "    </tr>\n",
       "    <tr>\n",
       "      <th>cr-ma2_xu_cr-ma1_20_c</th>\n",
       "      <td>0.000301</td>\n",
       "    </tr>\n",
       "    <tr>\n",
       "      <th>dma</th>\n",
       "      <td>0.001650</td>\n",
       "    </tr>\n",
       "    <tr>\n",
       "      <th>pdi</th>\n",
       "      <td>-0.011988</td>\n",
       "    </tr>\n",
       "    <tr>\n",
       "      <th>dx</th>\n",
       "      <td>0.006469</td>\n",
       "    </tr>\n",
       "  </tbody>\n",
       "</table>\n",
       "</div>"
      ],
      "text/plain": [
       "                              0\n",
       "volume_delta           0.000001\n",
       "open_2_d              -0.127046\n",
       "open_-2_r              0.112975\n",
       "macdh                 -0.070668\n",
       "cr-ma2_xu_cr-ma1_20_c  0.000301\n",
       "dma                    0.001650\n",
       "pdi                   -0.011988\n",
       "dx                     0.006469"
      ]
     },
     "execution_count": 9,
     "metadata": {
      "tags": []
     },
     "output_type": "execute_result"
    }
   ],
   "source": [
    "# get importance\n",
    "pd.DataFrame(data=logit.coef_[0],index=X0.columns)"
   ]
  },
  {
   "cell_type": "markdown",
   "metadata": {
    "colab_type": "text",
    "id": "sYWGb2ga4Gq2"
   },
   "source": [
    "# `Tuned Logistic Regression`"
   ]
  },
  {
   "cell_type": "code",
   "execution_count": 10,
   "metadata": {
    "colab": {
     "base_uri": "https://localhost:8080/",
     "height": 0
    },
    "colab_type": "code",
    "id": "htNelPIo4RQt",
    "outputId": "ea5793fb-d7bc-4da8-aa77-a7aaeea787ed"
   },
   "outputs": [
    {
     "name": "stdout",
     "output_type": "stream",
     "text": [
      "Fitting 5 folds for each of 200 candidates, totalling 1000 fits\n"
     ]
    },
    {
     "name": "stderr",
     "output_type": "stream",
     "text": [
      "[Parallel(n_jobs=-1)]: Using backend LokyBackend with 2 concurrent workers.\n",
      "[Parallel(n_jobs=-1)]: Done  46 tasks      | elapsed:    5.5s\n",
      "[Parallel(n_jobs=-1)]: Done 196 tasks      | elapsed:   24.7s\n",
      "[Parallel(n_jobs=-1)]: Done 446 tasks      | elapsed:   54.5s\n",
      "[Parallel(n_jobs=-1)]: Done 796 tasks      | elapsed:  1.6min\n",
      "[Parallel(n_jobs=-1)]: Done 1000 out of 1000 | elapsed:  2.0min finished\n"
     ]
    }
   ],
   "source": [
    "#building GridSearch with Logistic Regression\n",
    "gs_logit = LogisticRegression(random_state=42)\n",
    "\n",
    "param_logit = {\"class_weight\":[\"balanced\",None],\n",
    "            \"C\":np.linspace(0.0001, 1, 100)}\n",
    "\n",
    "\n",
    "logit_gs = GridSearchCV(estimator = gs_logit,\n",
    "                      param_grid = param_logit,\n",
    "                      scoring = \"roc_auc\", cv=KFold(n_splits=5, shuffle=False, random_state=None), verbose=1, n_jobs=-1).fit(X0,Y0)"
   ]
  },
  {
   "cell_type": "code",
   "execution_count": 11,
   "metadata": {
    "colab": {
     "base_uri": "https://localhost:8080/",
     "height": 0
    },
    "colab_type": "code",
    "id": "f6DekSLV4sJc",
    "outputId": "4290d8f5-c7bd-496f-cbd0-f0b194d3648d"
   },
   "outputs": [
    {
     "data": {
      "text/plain": [
       "{'C': 0.8484999999999999, 'class_weight': 'balanced'}"
      ]
     },
     "execution_count": 11,
     "metadata": {
      "tags": []
     },
     "output_type": "execute_result"
    }
   ],
   "source": [
    "#finding out the best parameters\n",
    "logit_gs.best_params_"
   ]
  },
  {
   "cell_type": "code",
   "execution_count": 0,
   "metadata": {
    "colab": {},
    "colab_type": "code",
    "id": "wgHQ21fc41Bg"
   },
   "outputs": [],
   "source": [
    "#building logit with best params and seeing the results\n",
    "pm = logit_gs.best_params_\n",
    "logit_grid = LogisticRegression(C=pm['C'],class_weight=pm['class_weight'],random_state=42).fit(X0,Y0)\n",
    "\n",
    "Y0_lr_gs = logit_grid.predict_proba(X0)[:,1]\n",
    "Y1_lr_gs = logit_grid.predict_proba(X1)[:,1]\n"
   ]
  },
  {
   "cell_type": "code",
   "execution_count": 13,
   "metadata": {
    "colab": {
     "base_uri": "https://localhost:8080/",
     "height": 0
    },
    "colab_type": "code",
    "id": "AtEQ-xwh-csL",
    "outputId": "7521ff10-eb79-4199-865c-e5439b1d43f8"
   },
   "outputs": [
    {
     "name": "stdout",
     "output_type": "stream",
     "text": [
      "ROC_AUC Train for tuned Logit: 0.75\n",
      "ROC_AUC Test for tuned Logit: 0.76\n",
      "Mean 5-fold ROC AUC score for Tuned Logit 0.76\n"
     ]
    }
   ],
   "source": [
    "#calculating roc auc score using\n",
    "Logit_GS_Train = roc_auc_score(Y0,Y0_lr_gs).round(2)\n",
    "Logit_GS_Test = roc_auc_score(Y1,Y1_lr_gs).round(2)\n",
    "Logit_GS_Mean5 = np.mean(cross_val_score(estimator=logit_grid,X=X,y=Y,cv=KFold(n_splits=5, shuffle=False, random_state=None),n_jobs=-1, scoring=\"roc_auc\")).round(2)\n",
    "\n",
    "print(\"ROC_AUC Train for tuned Logit:\",Logit_GS_Train)\n",
    "print(\"ROC_AUC Test for tuned Logit:\",Logit_GS_Test)\n",
    "print(\"Mean 5-fold ROC AUC score for Tuned Logit\", Logit_GS_Mean5)"
   ]
  },
  {
   "cell_type": "code",
   "execution_count": 14,
   "metadata": {
    "colab": {
     "base_uri": "https://localhost:8080/",
     "height": 0
    },
    "colab_type": "code",
    "id": "WWCRE5IWlH_Z",
    "outputId": "09f70285-1d0c-4bdc-9bd7-4c98a5a72980"
   },
   "outputs": [
    {
     "data": {
      "text/html": [
       "<div>\n",
       "<style scoped>\n",
       "    .dataframe tbody tr th:only-of-type {\n",
       "        vertical-align: middle;\n",
       "    }\n",
       "\n",
       "    .dataframe tbody tr th {\n",
       "        vertical-align: top;\n",
       "    }\n",
       "\n",
       "    .dataframe thead th {\n",
       "        text-align: right;\n",
       "    }\n",
       "</style>\n",
       "<table border=\"1\" class=\"dataframe\">\n",
       "  <thead>\n",
       "    <tr style=\"text-align: right;\">\n",
       "      <th></th>\n",
       "      <th>0</th>\n",
       "    </tr>\n",
       "  </thead>\n",
       "  <tbody>\n",
       "    <tr>\n",
       "      <th>volume_delta</th>\n",
       "      <td>0.000001</td>\n",
       "    </tr>\n",
       "    <tr>\n",
       "      <th>open_2_d</th>\n",
       "      <td>-0.126785</td>\n",
       "    </tr>\n",
       "    <tr>\n",
       "      <th>open_-2_r</th>\n",
       "      <td>0.113191</td>\n",
       "    </tr>\n",
       "    <tr>\n",
       "      <th>macdh</th>\n",
       "      <td>-0.068104</td>\n",
       "    </tr>\n",
       "    <tr>\n",
       "      <th>cr-ma2_xu_cr-ma1_20_c</th>\n",
       "      <td>0.000303</td>\n",
       "    </tr>\n",
       "    <tr>\n",
       "      <th>dma</th>\n",
       "      <td>0.001420</td>\n",
       "    </tr>\n",
       "    <tr>\n",
       "      <th>pdi</th>\n",
       "      <td>-0.012532</td>\n",
       "    </tr>\n",
       "    <tr>\n",
       "      <th>dx</th>\n",
       "      <td>0.006106</td>\n",
       "    </tr>\n",
       "  </tbody>\n",
       "</table>\n",
       "</div>"
      ],
      "text/plain": [
       "                              0\n",
       "volume_delta           0.000001\n",
       "open_2_d              -0.126785\n",
       "open_-2_r              0.113191\n",
       "macdh                 -0.068104\n",
       "cr-ma2_xu_cr-ma1_20_c  0.000303\n",
       "dma                    0.001420\n",
       "pdi                   -0.012532\n",
       "dx                     0.006106"
      ]
     },
     "execution_count": 14,
     "metadata": {
      "tags": []
     },
     "output_type": "execute_result"
    }
   ],
   "source": [
    "# get importance\n",
    "pd.DataFrame(data=logit_grid.coef_[0],index=X0.columns)"
   ]
  },
  {
   "cell_type": "markdown",
   "metadata": {
    "colab_type": "text",
    "id": "MiX5Md-ENYm2"
   },
   "source": [
    "# `Gradient Boosting`"
   ]
  },
  {
   "cell_type": "code",
   "execution_count": 0,
   "metadata": {
    "colab": {},
    "colab_type": "code",
    "id": "LUED6BipPCVW"
   },
   "outputs": [],
   "source": [
    "#making dummes,train test split\n",
    "data_gb = pd.get_dummies(data_gb, drop_first=True)"
   ]
  },
  {
   "cell_type": "code",
   "execution_count": 0,
   "metadata": {
    "colab": {},
    "colab_type": "code",
    "id": "ecLu-OOZPCVm"
   },
   "outputs": [],
   "source": [
    "#separating X and Y\n",
    "Y = data_gb[\"target\"]\n",
    "X = data_gb.drop(\"target\",axis=1)"
   ]
  },
  {
   "cell_type": "code",
   "execution_count": 0,
   "metadata": {
    "colab": {},
    "colab_type": "code",
    "id": "eahDwIbwPCVx"
   },
   "outputs": [],
   "source": [
    "#let's split X and Y data into test and train datasets, test data is 25% of overall data\n",
    "#splitting the data into train and test sets\n",
    "X0, X1, Y0, Y1 = train_test_split(X, Y, test_size=0.25, shuffle = False)"
   ]
  },
  {
   "cell_type": "code",
   "execution_count": 18,
   "metadata": {
    "colab": {
     "base_uri": "https://localhost:8080/",
     "height": 0
    },
    "colab_type": "code",
    "id": "QERt5KzGPCV5",
    "outputId": "157a0e94-400b-49cd-9030-74e5485aca75"
   },
   "outputs": [
    {
     "data": {
      "text/plain": [
       "GradientBoostingClassifier(ccp_alpha=0.0, criterion='friedman_mse', init=None,\n",
       "                           learning_rate=0.1, loss='deviance', max_depth=3,\n",
       "                           max_features=None, max_leaf_nodes=None,\n",
       "                           min_impurity_decrease=0.0, min_impurity_split=None,\n",
       "                           min_samples_leaf=1, min_samples_split=2,\n",
       "                           min_weight_fraction_leaf=0.0, n_estimators=100,\n",
       "                           n_iter_no_change=None, presort='deprecated',\n",
       "                           random_state=42, subsample=1.0, tol=0.0001,\n",
       "                           validation_fraction=0.1, verbose=0,\n",
       "                           warm_start=False)"
      ]
     },
     "execution_count": 18,
     "metadata": {
      "tags": []
     },
     "output_type": "execute_result"
    }
   ],
   "source": [
    "#building and fitting the model\n",
    "gb = GradientBoostingClassifier(random_state=42)\n",
    "gb.fit(X0,Y0)"
   ]
  },
  {
   "cell_type": "code",
   "execution_count": 0,
   "metadata": {
    "colab": {},
    "colab_type": "code",
    "id": "UCNL9QxqPCWC"
   },
   "outputs": [],
   "source": [
    "#let's see the order of classes\n",
    "gb.classes_\n",
    "\n",
    "Y0_gb = gb.predict_proba(X0)[:,1]\n",
    "Y1_gb = gb.predict_proba(X1)[:,1]"
   ]
  },
  {
   "cell_type": "code",
   "execution_count": 20,
   "metadata": {
    "colab": {
     "base_uri": "https://localhost:8080/",
     "height": 0
    },
    "colab_type": "code",
    "id": "V_z7YFN6PCWL",
    "outputId": "720db3f1-50f5-4718-bcc2-89dc539545c3"
   },
   "outputs": [
    {
     "name": "stdout",
     "output_type": "stream",
     "text": [
      "ROC_AUC Train: 0.83\n",
      "ROC_AUC Test: 0.83\n",
      "Mean 5-fold ROC AUC score for GB 0.8\n"
     ]
    }
   ],
   "source": [
    "#calculating roc auc score using \n",
    "GB_Train = roc_auc_score(Y0,Y0_gb).round(2)\n",
    "GB_Test = roc_auc_score(Y1,Y1_gb).round(2)\n",
    "GB_Mean5 = np.mean(cross_val_score(estimator=gb,X=X,y=Y,cv=KFold(n_splits=5, shuffle=False, random_state=None), n_jobs=-1, scoring=\"roc_auc\")).round(2)\n",
    "\n",
    "print(\"ROC_AUC Train:\", GB_Train)\n",
    "print(\"ROC_AUC Test:\", GB_Train)\n",
    "print(\"Mean 5-fold ROC AUC score for GB\", GB_Mean5)"
   ]
  },
  {
   "cell_type": "code",
   "execution_count": 21,
   "metadata": {
    "colab": {
     "base_uri": "https://localhost:8080/",
     "height": 0
    },
    "colab_type": "code",
    "id": "doA9x7Nta2Jc",
    "outputId": "2ae5c14d-47c6-4a8e-f0be-e40b07ef33c6"
   },
   "outputs": [
    {
     "data": {
      "text/html": [
       "<div>\n",
       "<style scoped>\n",
       "    .dataframe tbody tr th:only-of-type {\n",
       "        vertical-align: middle;\n",
       "    }\n",
       "\n",
       "    .dataframe tbody tr th {\n",
       "        vertical-align: top;\n",
       "    }\n",
       "\n",
       "    .dataframe thead th {\n",
       "        text-align: right;\n",
       "    }\n",
       "</style>\n",
       "<table border=\"1\" class=\"dataframe\">\n",
       "  <thead>\n",
       "    <tr style=\"text-align: right;\">\n",
       "      <th></th>\n",
       "      <th>0</th>\n",
       "    </tr>\n",
       "  </thead>\n",
       "  <tbody>\n",
       "    <tr>\n",
       "      <th>volume_delta</th>\n",
       "      <td>0.061606</td>\n",
       "    </tr>\n",
       "    <tr>\n",
       "      <th>open_2_d</th>\n",
       "      <td>0.735823</td>\n",
       "    </tr>\n",
       "    <tr>\n",
       "      <th>open_-2_r</th>\n",
       "      <td>0.037337</td>\n",
       "    </tr>\n",
       "    <tr>\n",
       "      <th>macdh</th>\n",
       "      <td>0.039386</td>\n",
       "    </tr>\n",
       "    <tr>\n",
       "      <th>cr-ma2_xu_cr-ma1_20_c</th>\n",
       "      <td>0.000000</td>\n",
       "    </tr>\n",
       "    <tr>\n",
       "      <th>dma</th>\n",
       "      <td>0.026448</td>\n",
       "    </tr>\n",
       "    <tr>\n",
       "      <th>pdi</th>\n",
       "      <td>0.080690</td>\n",
       "    </tr>\n",
       "    <tr>\n",
       "      <th>dx</th>\n",
       "      <td>0.018711</td>\n",
       "    </tr>\n",
       "  </tbody>\n",
       "</table>\n",
       "</div>"
      ],
      "text/plain": [
       "                              0\n",
       "volume_delta           0.061606\n",
       "open_2_d               0.735823\n",
       "open_-2_r              0.037337\n",
       "macdh                  0.039386\n",
       "cr-ma2_xu_cr-ma1_20_c  0.000000\n",
       "dma                    0.026448\n",
       "pdi                    0.080690\n",
       "dx                     0.018711"
      ]
     },
     "execution_count": 21,
     "metadata": {
      "tags": []
     },
     "output_type": "execute_result"
    }
   ],
   "source": [
    "#retrieving the importances of features(independent variables)\n",
    "pd.DataFrame(data=gb.feature_importances_,index=X0.columns)"
   ]
  },
  {
   "cell_type": "markdown",
   "metadata": {
    "colab_type": "text",
    "id": "C37Qh-qTYLIN"
   },
   "source": [
    "# `Tuned Gradient Boosting Classifier`"
   ]
  },
  {
   "cell_type": "code",
   "execution_count": 22,
   "metadata": {
    "colab": {
     "base_uri": "https://localhost:8080/",
     "height": 0
    },
    "colab_type": "code",
    "id": "GrUvD3hnYM_D",
    "outputId": "a1750c58-e6a9-49d4-89f1-f13632c66c3e"
   },
   "outputs": [
    {
     "name": "stdout",
     "output_type": "stream",
     "text": [
      "Fitting 5 folds for each of 3 candidates, totalling 15 fits\n"
     ]
    },
    {
     "name": "stderr",
     "output_type": "stream",
     "text": [
      "[Parallel(n_jobs=-1)]: Using backend LokyBackend with 2 concurrent workers.\n",
      "[Parallel(n_jobs=-1)]: Done  15 out of  15 | elapsed:   51.1s finished\n"
     ]
    }
   ],
   "source": [
    "#building GridSearch with Logistic Regression\n",
    "gs_gb = GradientBoostingClassifier(random_state=42)\n",
    "\n",
    "param_gb = { \"max_depth\":[3,5,8] }\n",
    "\n",
    "\n",
    "gb_gs = GridSearchCV(estimator = gs_gb,\n",
    "                      param_grid = param_gb,\n",
    "                      scoring = \"roc_auc\", cv=KFold(n_splits=5, shuffle=False, random_state=None), verbose=1, n_jobs=-1).fit(X0,Y0)"
   ]
  },
  {
   "cell_type": "code",
   "execution_count": 23,
   "metadata": {
    "colab": {
     "base_uri": "https://localhost:8080/",
     "height": 0
    },
    "colab_type": "code",
    "id": "sfO0wHfMYM_V",
    "outputId": "25b362ea-2a6d-4760-c432-5881b9ff2407"
   },
   "outputs": [
    {
     "data": {
      "text/plain": [
       "{'max_depth': 5}"
      ]
     },
     "execution_count": 23,
     "metadata": {
      "tags": []
     },
     "output_type": "execute_result"
    }
   ],
   "source": [
    "#finding out the best parameters\n",
    "gb_gs.best_params_"
   ]
  },
  {
   "cell_type": "code",
   "execution_count": 0,
   "metadata": {
    "colab": {},
    "colab_type": "code",
    "id": "KF6EPSaaYM_h"
   },
   "outputs": [],
   "source": [
    "#building logit with best params and seeing the results\n",
    "pm = gb_gs.best_params_\n",
    "gb_grid = GradientBoostingClassifier( max_depth = pm['max_depth'],random_state=42).fit(X0,Y0)\n",
    "\n",
    "Y0_gb_gs = gb_grid.predict_proba(X0)[:,1]\n",
    "Y1_gb_gs = gb_grid.predict_proba(X1)[:,1]\n"
   ]
  },
  {
   "cell_type": "code",
   "execution_count": 25,
   "metadata": {
    "colab": {
     "base_uri": "https://localhost:8080/",
     "height": 0
    },
    "colab_type": "code",
    "id": "QZF_W1RWYM_q",
    "outputId": "4d432379-8753-43a6-e962-ec4f5f49f902"
   },
   "outputs": [
    {
     "name": "stdout",
     "output_type": "stream",
     "text": [
      "ROC_AUC Train for tuned GB: 0.88\n",
      "ROC_AUC Test for tuned GB: 0.82\n",
      "Mean 5-fold ROC AUC score for Tuned GB 0.81\n"
     ]
    }
   ],
   "source": [
    "#calculating roc auc score using\n",
    "GB_GS_Train = roc_auc_score(Y0,Y0_gb_gs).round(2)\n",
    "GB_GS_Test = roc_auc_score(Y1,Y1_gb_gs).round(2)\n",
    "GB_GS_Mean5 = np.mean(cross_val_score(estimator=gb_grid,X=X,y=Y,cv=KFold(n_splits=5, shuffle=False, random_state=None),n_jobs=-1, scoring=\"roc_auc\")).round(2)\n",
    "\n",
    "print(\"ROC_AUC Train for tuned GB:\", GB_GS_Train)\n",
    "print(\"ROC_AUC Test for tuned GB:\", GB_GS_Test)\n",
    "print(\"Mean 5-fold ROC AUC score for Tuned GB\", GB_GS_Mean5)"
   ]
  },
  {
   "cell_type": "code",
   "execution_count": 26,
   "metadata": {
    "colab": {
     "base_uri": "https://localhost:8080/",
     "height": 0
    },
    "colab_type": "code",
    "id": "oyjTY4v0YF52",
    "outputId": "0e145bc6-b4b1-4c9d-c87c-6fd45bdbbaa8"
   },
   "outputs": [
    {
     "data": {
      "text/html": [
       "<div>\n",
       "<style scoped>\n",
       "    .dataframe tbody tr th:only-of-type {\n",
       "        vertical-align: middle;\n",
       "    }\n",
       "\n",
       "    .dataframe tbody tr th {\n",
       "        vertical-align: top;\n",
       "    }\n",
       "\n",
       "    .dataframe thead th {\n",
       "        text-align: right;\n",
       "    }\n",
       "</style>\n",
       "<table border=\"1\" class=\"dataframe\">\n",
       "  <thead>\n",
       "    <tr style=\"text-align: right;\">\n",
       "      <th></th>\n",
       "      <th>0</th>\n",
       "    </tr>\n",
       "  </thead>\n",
       "  <tbody>\n",
       "    <tr>\n",
       "      <th>volume_delta</th>\n",
       "      <td>0.078749</td>\n",
       "    </tr>\n",
       "    <tr>\n",
       "      <th>open_2_d</th>\n",
       "      <td>0.589793</td>\n",
       "    </tr>\n",
       "    <tr>\n",
       "      <th>open_-2_r</th>\n",
       "      <td>0.061835</td>\n",
       "    </tr>\n",
       "    <tr>\n",
       "      <th>macdh</th>\n",
       "      <td>0.070965</td>\n",
       "    </tr>\n",
       "    <tr>\n",
       "      <th>cr-ma2_xu_cr-ma1_20_c</th>\n",
       "      <td>0.000000</td>\n",
       "    </tr>\n",
       "    <tr>\n",
       "      <th>dma</th>\n",
       "      <td>0.059218</td>\n",
       "    </tr>\n",
       "    <tr>\n",
       "      <th>pdi</th>\n",
       "      <td>0.092524</td>\n",
       "    </tr>\n",
       "    <tr>\n",
       "      <th>dx</th>\n",
       "      <td>0.046917</td>\n",
       "    </tr>\n",
       "  </tbody>\n",
       "</table>\n",
       "</div>"
      ],
      "text/plain": [
       "                              0\n",
       "volume_delta           0.078749\n",
       "open_2_d               0.589793\n",
       "open_-2_r              0.061835\n",
       "macdh                  0.070965\n",
       "cr-ma2_xu_cr-ma1_20_c  0.000000\n",
       "dma                    0.059218\n",
       "pdi                    0.092524\n",
       "dx                     0.046917"
      ]
     },
     "execution_count": 26,
     "metadata": {
      "tags": []
     },
     "output_type": "execute_result"
    }
   ],
   "source": [
    "#retrieving the importances of features(independent variables)\n",
    "pd.DataFrame(data=gb_grid.feature_importances_,index=X0.columns)"
   ]
  },
  {
   "cell_type": "markdown",
   "metadata": {
    "colab_type": "text",
    "id": "NWfrrfVV1Zru"
   },
   "source": [
    "# `Decision Tree`"
   ]
  },
  {
   "cell_type": "code",
   "execution_count": 0,
   "metadata": {
    "colab": {},
    "colab_type": "code",
    "id": "dCUNZBRy4yQE"
   },
   "outputs": [],
   "source": [
    "data_dt = pd.get_dummies(data_dt,drop_first=True)\n",
    "\n",
    "Y = data_dt[\"target\"]\n",
    "X = data_dt.drop(\"target\",axis=1)\n",
    "\n",
    "X0, X1, Y0, Y1 = train_test_split(X,Y,test_size =0.25, shuffle = False)"
   ]
  },
  {
   "cell_type": "code",
   "execution_count": 28,
   "metadata": {
    "colab": {
     "base_uri": "https://localhost:8080/",
     "height": 0
    },
    "colab_type": "code",
    "id": "3DUXcT0a3opr",
    "outputId": "07149373-5610-44db-e395-6848c8438892"
   },
   "outputs": [
    {
     "data": {
      "text/plain": [
       "DecisionTreeClassifier(ccp_alpha=0.0, class_weight=None, criterion='gini',\n",
       "                       max_depth=None, max_features=None, max_leaf_nodes=None,\n",
       "                       min_impurity_decrease=0.0, min_impurity_split=None,\n",
       "                       min_samples_leaf=1, min_samples_split=2,\n",
       "                       min_weight_fraction_leaf=0.0, presort='deprecated',\n",
       "                       random_state=42, splitter='best')"
      ]
     },
     "execution_count": 28,
     "metadata": {
      "tags": []
     },
     "output_type": "execute_result"
    }
   ],
   "source": [
    "#building DT with default hyperparameters\n",
    "dt = DecisionTreeClassifier(random_state=42)\n",
    "dt.fit(X0,Y0)"
   ]
  },
  {
   "cell_type": "code",
   "execution_count": 0,
   "metadata": {
    "colab": {},
    "colab_type": "code",
    "id": "ho7s-PWS1gD5"
   },
   "outputs": [],
   "source": [
    "#calculating probabilities\n",
    "Y0_dt=dt.predict_proba(X0)[:,1]\n",
    "Y1_dt=dt.predict_proba(X1)[:,1]"
   ]
  },
  {
   "cell_type": "code",
   "execution_count": 30,
   "metadata": {
    "colab": {
     "base_uri": "https://localhost:8080/",
     "height": 0
    },
    "colab_type": "code",
    "id": "kgDM4G-3-17S",
    "outputId": "1602f52f-8c5b-422b-8c51-659677e5129d"
   },
   "outputs": [
    {
     "name": "stdout",
     "output_type": "stream",
     "text": [
      "ROC_AUC Train for fully grown DT: 1.0\n",
      "ROC_AUC Test for fully grown DT: 0.64\n",
      "Mean 5-fold ROC AUC score for Decision Tree 0.65\n"
     ]
    }
   ],
   "source": [
    "#printing the ROC AUC scores for training and testing sets\n",
    "DT_Train = roc_auc_score(Y0,Y0_dt).round(2)\n",
    "DT_Test = roc_auc_score(Y1,Y1_dt).round(2)\n",
    "DT_Mean5 = np.mean(cross_val_score(estimator = dt,X=X,y=Y,cv=KFold(n_splits=5, shuffle=False, random_state=None), n_jobs=-1, scoring=\"roc_auc\")).round(2)\n",
    "\n",
    "\n",
    "print(\"ROC_AUC Train for fully grown DT:\",DT_Train)\n",
    "print(\"ROC_AUC Test for fully grown DT:\", DT_Test)\n",
    "print(\"Mean 5-fold ROC AUC score for Decision Tree\", DT_Mean5)"
   ]
  },
  {
   "cell_type": "code",
   "execution_count": 31,
   "metadata": {
    "colab": {
     "base_uri": "https://localhost:8080/",
     "height": 0
    },
    "colab_type": "code",
    "id": "nVYVIf-mOuZ9",
    "outputId": "c08e428f-5f38-4b0d-9b6c-0171ddea51d3"
   },
   "outputs": [
    {
     "data": {
      "text/html": [
       "<div>\n",
       "<style scoped>\n",
       "    .dataframe tbody tr th:only-of-type {\n",
       "        vertical-align: middle;\n",
       "    }\n",
       "\n",
       "    .dataframe tbody tr th {\n",
       "        vertical-align: top;\n",
       "    }\n",
       "\n",
       "    .dataframe thead th {\n",
       "        text-align: right;\n",
       "    }\n",
       "</style>\n",
       "<table border=\"1\" class=\"dataframe\">\n",
       "  <thead>\n",
       "    <tr style=\"text-align: right;\">\n",
       "      <th></th>\n",
       "      <th>0</th>\n",
       "    </tr>\n",
       "  </thead>\n",
       "  <tbody>\n",
       "    <tr>\n",
       "      <th>volume_delta</th>\n",
       "      <td>0.109853</td>\n",
       "    </tr>\n",
       "    <tr>\n",
       "      <th>open_2_d</th>\n",
       "      <td>0.325035</td>\n",
       "    </tr>\n",
       "    <tr>\n",
       "      <th>open_-2_r</th>\n",
       "      <td>0.121340</td>\n",
       "    </tr>\n",
       "    <tr>\n",
       "      <th>macdh</th>\n",
       "      <td>0.117062</td>\n",
       "    </tr>\n",
       "    <tr>\n",
       "      <th>cr-ma2_xu_cr-ma1_20_c</th>\n",
       "      <td>0.000000</td>\n",
       "    </tr>\n",
       "    <tr>\n",
       "      <th>dma</th>\n",
       "      <td>0.104886</td>\n",
       "    </tr>\n",
       "    <tr>\n",
       "      <th>pdi</th>\n",
       "      <td>0.120850</td>\n",
       "    </tr>\n",
       "    <tr>\n",
       "      <th>dx</th>\n",
       "      <td>0.100974</td>\n",
       "    </tr>\n",
       "  </tbody>\n",
       "</table>\n",
       "</div>"
      ],
      "text/plain": [
       "                              0\n",
       "volume_delta           0.109853\n",
       "open_2_d               0.325035\n",
       "open_-2_r              0.121340\n",
       "macdh                  0.117062\n",
       "cr-ma2_xu_cr-ma1_20_c  0.000000\n",
       "dma                    0.104886\n",
       "pdi                    0.120850\n",
       "dx                     0.100974"
      ]
     },
     "execution_count": 31,
     "metadata": {
      "tags": []
     },
     "output_type": "execute_result"
    }
   ],
   "source": [
    "#retrieving the importances of features(independent variables)\n",
    "pd.DataFrame(data=dt.feature_importances_,index=X0.columns)"
   ]
  },
  {
   "cell_type": "markdown",
   "metadata": {
    "colab_type": "text",
    "id": "jPmerqG0_hle"
   },
   "source": [
    "# `Tuned Decision Tree`"
   ]
  },
  {
   "cell_type": "code",
   "execution_count": 0,
   "metadata": {
    "colab": {},
    "colab_type": "code",
    "id": "cvMgtpo5-2YS"
   },
   "outputs": [],
   "source": [
    "#setting up parameters for DT's GridSearch\n",
    "param_dt={\"max_depth\":range(1,9),\n",
    "          \"min_samples_leaf\":range(10,150,10),\n",
    "          \"class_weight\":[\"balanced\",None]        \n",
    "            }"
   ]
  },
  {
   "cell_type": "code",
   "execution_count": 33,
   "metadata": {
    "colab": {
     "base_uri": "https://localhost:8080/",
     "height": 0
    },
    "colab_type": "code",
    "id": "PWKzW2Qg_tc1",
    "outputId": "e1c9bf9d-35f9-4307-ecac-1409c83f537d"
   },
   "outputs": [
    {
     "data": {
      "text/plain": [
       "GridSearchCV(cv=KFold(n_splits=5, random_state=None, shuffle=False),\n",
       "             error_score=nan,\n",
       "             estimator=DecisionTreeClassifier(ccp_alpha=0.0, class_weight=None,\n",
       "                                              criterion='gini', max_depth=None,\n",
       "                                              max_features=None,\n",
       "                                              max_leaf_nodes=None,\n",
       "                                              min_impurity_decrease=0.0,\n",
       "                                              min_impurity_split=None,\n",
       "                                              min_samples_leaf=1,\n",
       "                                              min_samples_split=2,\n",
       "                                              min_weight_fraction_leaf=0.0,\n",
       "                                              presort='deprecated',\n",
       "                                              random_state=42,\n",
       "                                              splitter='best'),\n",
       "             iid='deprecated', n_jobs=-1,\n",
       "             param_grid={'class_weight': ['balanced', None],\n",
       "                         'max_depth': range(1, 9),\n",
       "                         'min_samples_leaf': range(10, 150, 10)},\n",
       "             pre_dispatch='2*n_jobs', refit=True, return_train_score=False,\n",
       "             scoring='roc_auc', verbose=0)"
      ]
     },
     "execution_count": 33,
     "metadata": {
      "tags": []
     },
     "output_type": "execute_result"
    }
   ],
   "source": [
    "#fitting GridSearch with above specified parameters\n",
    "dt_gs = GridSearchCV(estimator = DecisionTreeClassifier(random_state=42), param_grid = param_dt,\n",
    "                  scoring=\"roc_auc\",cv=KFold(n_splits=5, shuffle=False, random_state=None), n_jobs=-1)\n",
    "dt_gs.fit(X0,Y0)"
   ]
  },
  {
   "cell_type": "code",
   "execution_count": 34,
   "metadata": {
    "colab": {
     "base_uri": "https://localhost:8080/",
     "height": 0
    },
    "colab_type": "code",
    "id": "QhTk28Et_3H5",
    "outputId": "4f298691-6505-43d7-a30a-2b7a6b33e4f3"
   },
   "outputs": [
    {
     "data": {
      "text/plain": [
       "{'class_weight': 'balanced', 'max_depth': 7, 'min_samples_leaf': 140}"
      ]
     },
     "execution_count": 34,
     "metadata": {
      "tags": []
     },
     "output_type": "execute_result"
    }
   ],
   "source": [
    " dt_gs.best_params_"
   ]
  },
  {
   "cell_type": "code",
   "execution_count": 0,
   "metadata": {
    "colab": {},
    "colab_type": "code",
    "id": "LbwUrvfl_-lD"
   },
   "outputs": [],
   "source": [
    "#fitting the model with best parameters and calculating probabilites\n",
    "pm = dt_gs.best_params_\n",
    "dt_grid = DecisionTreeClassifier(class_weight = pm['class_weight'], max_depth = pm['max_depth'], min_samples_leaf = pm['min_samples_leaf'], random_state=42).fit(X0,Y0)\n",
    "\n",
    "Y0_dt_grid=dt_grid.predict_proba(X0)[:,1]\n",
    "Y1_dt_grid=dt_grid.predict_proba(X1)[:,1]"
   ]
  },
  {
   "cell_type": "code",
   "execution_count": 36,
   "metadata": {
    "colab": {
     "base_uri": "https://localhost:8080/",
     "height": 0
    },
    "colab_type": "code",
    "id": "uYqQLq7XAEcE",
    "outputId": "8729fee3-0765-4ba9-f7bf-390eaa5c1114"
   },
   "outputs": [
    {
     "name": "stdout",
     "output_type": "stream",
     "text": [
      "ROC_AUC Train for tuned DT: 0.8\n",
      "ROC_AUC Test for tuned DT: 0.79\n",
      "Mean 5-fold ROC AUC score for Tuned Decision Tree 0.78\n"
     ]
    }
   ],
   "source": [
    "#printing the ROC AUC scores for training and testing sets\n",
    "DT_GS_Train = roc_auc_score(Y0,Y0_dt_grid).round(2)\n",
    "DT_GS_Test = roc_auc_score(Y1,Y1_dt_grid).round(2)\n",
    "DT_GS_Mean5 = np.mean(cross_val_score(estimator = dt_grid,X=X,y=Y,cv=KFold(n_splits=5, shuffle=False, random_state=None),n_jobs=-1, scoring=\"roc_auc\")).round(2)\n",
    "\n",
    "\n",
    "print(\"ROC_AUC Train for tuned DT:\",DT_GS_Train)\n",
    "print(\"ROC_AUC Test for tuned DT:\", DT_GS_Test)\n",
    "print(\"Mean 5-fold ROC AUC score for Tuned Decision Tree\", DT_GS_Mean5)"
   ]
  },
  {
   "cell_type": "code",
   "execution_count": 37,
   "metadata": {
    "colab": {
     "base_uri": "https://localhost:8080/",
     "height": 0
    },
    "colab_type": "code",
    "id": "NHHicSNxPA8n",
    "outputId": "a8f37908-3aca-4a69-f449-081caeafa17c"
   },
   "outputs": [
    {
     "data": {
      "text/html": [
       "<div>\n",
       "<style scoped>\n",
       "    .dataframe tbody tr th:only-of-type {\n",
       "        vertical-align: middle;\n",
       "    }\n",
       "\n",
       "    .dataframe tbody tr th {\n",
       "        vertical-align: top;\n",
       "    }\n",
       "\n",
       "    .dataframe thead th {\n",
       "        text-align: right;\n",
       "    }\n",
       "</style>\n",
       "<table border=\"1\" class=\"dataframe\">\n",
       "  <thead>\n",
       "    <tr style=\"text-align: right;\">\n",
       "      <th></th>\n",
       "      <th>0</th>\n",
       "    </tr>\n",
       "  </thead>\n",
       "  <tbody>\n",
       "    <tr>\n",
       "      <th>volume_delta</th>\n",
       "      <td>0.042942</td>\n",
       "    </tr>\n",
       "    <tr>\n",
       "      <th>open_2_d</th>\n",
       "      <td>0.812674</td>\n",
       "    </tr>\n",
       "    <tr>\n",
       "      <th>open_-2_r</th>\n",
       "      <td>0.029541</td>\n",
       "    </tr>\n",
       "    <tr>\n",
       "      <th>macdh</th>\n",
       "      <td>0.029982</td>\n",
       "    </tr>\n",
       "    <tr>\n",
       "      <th>cr-ma2_xu_cr-ma1_20_c</th>\n",
       "      <td>0.000000</td>\n",
       "    </tr>\n",
       "    <tr>\n",
       "      <th>dma</th>\n",
       "      <td>0.007630</td>\n",
       "    </tr>\n",
       "    <tr>\n",
       "      <th>pdi</th>\n",
       "      <td>0.067449</td>\n",
       "    </tr>\n",
       "    <tr>\n",
       "      <th>dx</th>\n",
       "      <td>0.009780</td>\n",
       "    </tr>\n",
       "  </tbody>\n",
       "</table>\n",
       "</div>"
      ],
      "text/plain": [
       "                              0\n",
       "volume_delta           0.042942\n",
       "open_2_d               0.812674\n",
       "open_-2_r              0.029541\n",
       "macdh                  0.029982\n",
       "cr-ma2_xu_cr-ma1_20_c  0.000000\n",
       "dma                    0.007630\n",
       "pdi                    0.067449\n",
       "dx                     0.009780"
      ]
     },
     "execution_count": 37,
     "metadata": {
      "tags": []
     },
     "output_type": "execute_result"
    }
   ],
   "source": [
    "#retrieving the importances of features(independent variables)\n",
    "pd.DataFrame(data=dt_grid.feature_importances_,index=X0.columns)"
   ]
  },
  {
   "cell_type": "markdown",
   "metadata": {
    "colab_type": "text",
    "id": "J7QdLghl1hsd"
   },
   "source": [
    "# `Random Forest`"
   ]
  },
  {
   "cell_type": "code",
   "execution_count": 0,
   "metadata": {
    "colab": {},
    "colab_type": "code",
    "id": "vVQn8adgAuQv"
   },
   "outputs": [],
   "source": [
    "data_rf = pd.get_dummies(data_rf,drop_first=True)\n",
    "\n",
    "Y = data_rf[\"target\"]\n",
    "X = data_rf.drop(\"target\",axis=1)\n",
    "\n",
    "X0, X1, Y0, Y1 = train_test_split(X,Y,test_size =0.25, shuffle = False)"
   ]
  },
  {
   "cell_type": "code",
   "execution_count": 39,
   "metadata": {
    "colab": {
     "base_uri": "https://localhost:8080/",
     "height": 0
    },
    "colab_type": "code",
    "id": "Sbl2y98jAuqy",
    "outputId": "a6d55645-634d-46d4-fe51-d8bf6c8182cf"
   },
   "outputs": [
    {
     "data": {
      "text/plain": [
       "RandomForestClassifier(bootstrap=True, ccp_alpha=0.0, class_weight=None,\n",
       "                       criterion='gini', max_depth=None, max_features='auto',\n",
       "                       max_leaf_nodes=None, max_samples=None,\n",
       "                       min_impurity_decrease=0.0, min_impurity_split=None,\n",
       "                       min_samples_leaf=1, min_samples_split=2,\n",
       "                       min_weight_fraction_leaf=0.0, n_estimators=100,\n",
       "                       n_jobs=None, oob_score=False, random_state=42, verbose=0,\n",
       "                       warm_start=False)"
      ]
     },
     "execution_count": 39,
     "metadata": {
      "tags": []
     },
     "output_type": "execute_result"
    }
   ],
   "source": [
    "#building DT with default hyperparameters\n",
    "rf = RandomForestClassifier(random_state=42)\n",
    "rf.fit(X0,Y0)"
   ]
  },
  {
   "cell_type": "code",
   "execution_count": 0,
   "metadata": {
    "colab": {},
    "colab_type": "code",
    "id": "_kWFN0YrAu4y"
   },
   "outputs": [],
   "source": [
    "#calculating probabilities\n",
    "Y0_rf = rf.predict_proba(X0)[:,1]\n",
    "Y1_rf = rf.predict_proba(X1)[:,1]"
   ]
  },
  {
   "cell_type": "code",
   "execution_count": 41,
   "metadata": {
    "colab": {
     "base_uri": "https://localhost:8080/",
     "height": 0
    },
    "colab_type": "code",
    "id": "oNVE3GD9AvIr",
    "outputId": "3dc21c32-1aba-446c-8067-1a9dae4c9a9f"
   },
   "outputs": [
    {
     "name": "stdout",
     "output_type": "stream",
     "text": [
      "ROC_AUC Train for RF: 1.0\n",
      "ROC_AUC Test for RF: 0.81\n",
      "Mean 5-fold ROC AUC score for RF 0.8\n"
     ]
    }
   ],
   "source": [
    "#printing the ROC AUC scores for training and testing sets\n",
    "RF_Train = roc_auc_score(Y0,Y0_rf).round(2)\n",
    "RF_Test = roc_auc_score(Y1,Y1_rf).round(2)\n",
    "RF_Mean5 = np.mean(cross_val_score(estimator = rf,X=X,y=Y,cv=KFold(n_splits=5, shuffle=False, random_state=None),n_jobs=-1, scoring=\"roc_auc\")).round(2)\n",
    "\n",
    "print(\"ROC_AUC Train for RF:\",RF_Train)\n",
    "print(\"ROC_AUC Test for RF:\", RF_Test)\n",
    "print(\"Mean 5-fold ROC AUC score for RF\", RF_Mean5)"
   ]
  },
  {
   "cell_type": "code",
   "execution_count": 42,
   "metadata": {
    "colab": {
     "base_uri": "https://localhost:8080/",
     "height": 0
    },
    "colab_type": "code",
    "id": "0M1XKZCDPiwT",
    "outputId": "91fb883a-f339-4e8b-d6ba-42c10ee496f9"
   },
   "outputs": [
    {
     "data": {
      "text/html": [
       "<div>\n",
       "<style scoped>\n",
       "    .dataframe tbody tr th:only-of-type {\n",
       "        vertical-align: middle;\n",
       "    }\n",
       "\n",
       "    .dataframe tbody tr th {\n",
       "        vertical-align: top;\n",
       "    }\n",
       "\n",
       "    .dataframe thead th {\n",
       "        text-align: right;\n",
       "    }\n",
       "</style>\n",
       "<table border=\"1\" class=\"dataframe\">\n",
       "  <thead>\n",
       "    <tr style=\"text-align: right;\">\n",
       "      <th></th>\n",
       "      <th>0</th>\n",
       "    </tr>\n",
       "  </thead>\n",
       "  <tbody>\n",
       "    <tr>\n",
       "      <th>volume_delta</th>\n",
       "      <td>0.114134</td>\n",
       "    </tr>\n",
       "    <tr>\n",
       "      <th>open_2_d</th>\n",
       "      <td>0.326545</td>\n",
       "    </tr>\n",
       "    <tr>\n",
       "      <th>open_-2_r</th>\n",
       "      <td>0.110517</td>\n",
       "    </tr>\n",
       "    <tr>\n",
       "      <th>macdh</th>\n",
       "      <td>0.114134</td>\n",
       "    </tr>\n",
       "    <tr>\n",
       "      <th>cr-ma2_xu_cr-ma1_20_c</th>\n",
       "      <td>0.000024</td>\n",
       "    </tr>\n",
       "    <tr>\n",
       "      <th>dma</th>\n",
       "      <td>0.110941</td>\n",
       "    </tr>\n",
       "    <tr>\n",
       "      <th>pdi</th>\n",
       "      <td>0.116774</td>\n",
       "    </tr>\n",
       "    <tr>\n",
       "      <th>dx</th>\n",
       "      <td>0.106931</td>\n",
       "    </tr>\n",
       "  </tbody>\n",
       "</table>\n",
       "</div>"
      ],
      "text/plain": [
       "                              0\n",
       "volume_delta           0.114134\n",
       "open_2_d               0.326545\n",
       "open_-2_r              0.110517\n",
       "macdh                  0.114134\n",
       "cr-ma2_xu_cr-ma1_20_c  0.000024\n",
       "dma                    0.110941\n",
       "pdi                    0.116774\n",
       "dx                     0.106931"
      ]
     },
     "execution_count": 42,
     "metadata": {
      "tags": []
     },
     "output_type": "execute_result"
    }
   ],
   "source": [
    "#retrieving the importances of features(independent variables)\n",
    "pd.DataFrame(data=rf.feature_importances_,index=X0.columns)"
   ]
  },
  {
   "cell_type": "markdown",
   "metadata": {
    "colab_type": "text",
    "id": "tLZVf6EFCO5b"
   },
   "source": [
    "# `Tuned Random Forest`"
   ]
  },
  {
   "cell_type": "code",
   "execution_count": 43,
   "metadata": {
    "colab": {
     "base_uri": "https://localhost:8080/",
     "height": 34
    },
    "colab_type": "code",
    "id": "HLVWWmGu1lTJ",
    "outputId": "e886b329-f5be-4141-e315-62fd04077a18"
   },
   "outputs": [
    {
     "name": "stdout",
     "output_type": "stream",
     "text": [
      "{'max_depth': range(1, 9), 'min_samples_leaf': range(10, 150, 10), 'class_weight': ['balanced', None]}\n"
     ]
    }
   ],
   "source": [
    "print(param_dt)"
   ]
  },
  {
   "cell_type": "code",
   "execution_count": 0,
   "metadata": {
    "colab": {},
    "colab_type": "code",
    "id": "jPEAIJocAc6-"
   },
   "outputs": [],
   "source": [
    "#building GridSearch for RF using DT's hyperparameters ranges\n",
    "gs_rf = GridSearchCV(estimator = RandomForestClassifier(random_state=42),\n",
    "                  param_grid = param_dt, scoring=\"roc_auc\", cv=KFold(n_splits=5, shuffle=False, random_state=None), n_jobs=-1).fit(X0,Y0)"
   ]
  },
  {
   "cell_type": "code",
   "execution_count": 45,
   "metadata": {
    "colab": {
     "base_uri": "https://localhost:8080/",
     "height": 34
    },
    "colab_type": "code",
    "id": "u0QGNcU2AkTo",
    "outputId": "9ab5ce80-853e-43fa-c3fb-94826881358d"
   },
   "outputs": [
    {
     "data": {
      "text/plain": [
       "{'class_weight': 'balanced', 'max_depth': 8, 'min_samples_leaf': 10}"
      ]
     },
     "execution_count": 45,
     "metadata": {
      "tags": []
     },
     "output_type": "execute_result"
    }
   ],
   "source": [
    " #outlining best parameters\n",
    "gs_rf.best_params_"
   ]
  },
  {
   "cell_type": "code",
   "execution_count": 0,
   "metadata": {
    "colab": {},
    "colab_type": "code",
    "id": "0o8WtRXRArPK"
   },
   "outputs": [],
   "source": [
    "#fitting the model and calculating probabilities\n",
    "pm = gs_rf.best_params_\n",
    "rf_grid = RandomForestClassifier(class_weight = pm['class_weight'], max_depth = pm['max_depth'], min_samples_leaf = pm['min_samples_leaf'], random_state=42).fit(X0,Y0)\n",
    "\n",
    "Y0_rf_grid=rf_grid.predict_proba(X0)[:,1]\n",
    "Y1_rf_grid=rf_grid.predict_proba(X1)[:,1]"
   ]
  },
  {
   "cell_type": "code",
   "execution_count": 47,
   "metadata": {
    "colab": {
     "base_uri": "https://localhost:8080/",
     "height": 68
    },
    "colab_type": "code",
    "id": "2i1D6L1hCvk9",
    "outputId": "541c5492-1ab7-4697-fb1e-2d62101fb872"
   },
   "outputs": [
    {
     "name": "stdout",
     "output_type": "stream",
     "text": [
      "ROC_AUC Train for tuned RF: 0.84\n",
      "ROC_AUC Test for tuned RF: 0.81\n",
      "Mean 5-fold ROC AUC score for tuned RF 0.8\n"
     ]
    }
   ],
   "source": [
    "#printing the ROC AUC scores for training and testing sets\n",
    "RF_GS_Train = roc_auc_score(Y0,Y0_rf_grid).round(2)\n",
    "RF_GS_Test = roc_auc_score(Y1,Y1_rf_grid).round(2)\n",
    "RF_GS_Mean5 = np.mean(cross_val_score(estimator = rf_grid,X=X,y=Y,cv=KFold(n_splits=5, shuffle=False, random_state=None),n_jobs=-1, scoring=\"roc_auc\")).round(2)\n",
    "\n",
    "\n",
    "print(\"ROC_AUC Train for tuned RF:\",RF_GS_Train)\n",
    "print(\"ROC_AUC Test for tuned RF:\", RF_GS_Test)\n",
    "print(\"Mean 5-fold ROC AUC score for tuned RF\", RF_GS_Mean5)"
   ]
  },
  {
   "cell_type": "code",
   "execution_count": 48,
   "metadata": {
    "colab": {
     "base_uri": "https://localhost:8080/",
     "height": 297
    },
    "colab_type": "code",
    "id": "LqZfaeJdPgCR",
    "outputId": "0466e9c9-1d64-44b7-ee28-5f080c3b511a"
   },
   "outputs": [
    {
     "data": {
      "text/html": [
       "<div>\n",
       "<style scoped>\n",
       "    .dataframe tbody tr th:only-of-type {\n",
       "        vertical-align: middle;\n",
       "    }\n",
       "\n",
       "    .dataframe tbody tr th {\n",
       "        vertical-align: top;\n",
       "    }\n",
       "\n",
       "    .dataframe thead th {\n",
       "        text-align: right;\n",
       "    }\n",
       "</style>\n",
       "<table border=\"1\" class=\"dataframe\">\n",
       "  <thead>\n",
       "    <tr style=\"text-align: right;\">\n",
       "      <th></th>\n",
       "      <th>0</th>\n",
       "    </tr>\n",
       "  </thead>\n",
       "  <tbody>\n",
       "    <tr>\n",
       "      <th>volume_delta</th>\n",
       "      <td>0.057160</td>\n",
       "    </tr>\n",
       "    <tr>\n",
       "      <th>open_2_d</th>\n",
       "      <td>0.716316</td>\n",
       "    </tr>\n",
       "    <tr>\n",
       "      <th>open_-2_r</th>\n",
       "      <td>0.046324</td>\n",
       "    </tr>\n",
       "    <tr>\n",
       "      <th>macdh</th>\n",
       "      <td>0.045048</td>\n",
       "    </tr>\n",
       "    <tr>\n",
       "      <th>cr-ma2_xu_cr-ma1_20_c</th>\n",
       "      <td>0.000000</td>\n",
       "    </tr>\n",
       "    <tr>\n",
       "      <th>dma</th>\n",
       "      <td>0.036284</td>\n",
       "    </tr>\n",
       "    <tr>\n",
       "      <th>pdi</th>\n",
       "      <td>0.061574</td>\n",
       "    </tr>\n",
       "    <tr>\n",
       "      <th>dx</th>\n",
       "      <td>0.037295</td>\n",
       "    </tr>\n",
       "  </tbody>\n",
       "</table>\n",
       "</div>"
      ],
      "text/plain": [
       "                              0\n",
       "volume_delta           0.057160\n",
       "open_2_d               0.716316\n",
       "open_-2_r              0.046324\n",
       "macdh                  0.045048\n",
       "cr-ma2_xu_cr-ma1_20_c  0.000000\n",
       "dma                    0.036284\n",
       "pdi                    0.061574\n",
       "dx                     0.037295"
      ]
     },
     "execution_count": 48,
     "metadata": {
      "tags": []
     },
     "output_type": "execute_result"
    }
   ],
   "source": [
    "#retrieving the importances of features(independent variables)\n",
    "pd.DataFrame(data=rf_grid.feature_importances_,index=X0.columns)"
   ]
  },
  {
   "cell_type": "markdown",
   "metadata": {
    "colab_type": "text",
    "id": "feQnxj_5baFx"
   },
   "source": [
    "# `Summary`"
   ]
  },
  {
   "cell_type": "code",
   "execution_count": 49,
   "metadata": {
    "colab": {
     "base_uri": "https://localhost:8080/",
     "height": 153
    },
    "colab_type": "code",
    "id": "mq_OT7iRV6Nn",
    "outputId": "a57c50ee-fb9e-4652-a123-e36be63c1742"
   },
   "outputs": [
    {
     "name": "stdout",
     "output_type": "stream",
     "text": [
      "Mean 5-fold ROC AUC score for LR 0.76\n",
      "Mean 5-fold ROC AUC score for Tuned LR 0.76\n",
      "Mean 5-fold ROC AUC score for GB 0.8\n",
      "Mean 5-fold ROC AUC score for Tuned GB 0.81\n",
      "Mean 5-fold ROC AUC score for DT 0.65\n",
      "Mean 5-fold ROC AUC score for Tuned DT 0.78\n",
      "Mean 5-fold ROC AUC score for RF 0.8\n",
      "Mean 5-fold ROC AUC score for Tuned RF 0.8\n"
     ]
    }
   ],
   "source": [
    "#Picking the best model based on mean 5-fold cross validation score.\n",
    "\n",
    "print(\"Mean 5-fold ROC AUC score for LR\",Logit_Mean5)\n",
    "print(\"Mean 5-fold ROC AUC score for Tuned LR\",Logit_GS_Mean5)\n",
    "\n",
    "print(\"Mean 5-fold ROC AUC score for GB\", GB_Mean5)\n",
    "print(\"Mean 5-fold ROC AUC score for Tuned GB\", GB_GS_Mean5)\n",
    "\n",
    "print(\"Mean 5-fold ROC AUC score for DT\", DT_Mean5)\n",
    "print(\"Mean 5-fold ROC AUC score for Tuned DT\",DT_GS_Mean5)\n",
    "\n",
    "print(\"Mean 5-fold ROC AUC score for RF\", RF_Mean5)\n",
    "print(\"Mean 5-fold ROC AUC score for Tuned RF\", RF_GS_Mean5)\n",
    "\n"
   ]
  }
 ],
 "metadata": {
  "accelerator": "GPU",
  "colab": {
   "collapsed_sections": [
    "lwJeOsCDbUAN",
    "7uKCJA-I1PML",
    "MiX5Md-ENYm2",
    "C37Qh-qTYLIN",
    "NWfrrfVV1Zru",
    "jPmerqG0_hle",
    "J7QdLghl1hsd",
    "tLZVf6EFCO5b",
    "feQnxj_5baFx"
   ],
   "name": "FilteredDataset.ipynb",
   "provenance": []
  },
  "kernelspec": {
   "display_name": "Python 3",
   "language": "python",
   "name": "python3"
  },
  "language_info": {
   "codemirror_mode": {
    "name": "ipython",
    "version": 3
   },
   "file_extension": ".py",
   "mimetype": "text/x-python",
   "name": "python",
   "nbconvert_exporter": "python",
   "pygments_lexer": "ipython3",
   "version": "3.7.1"
  }
 },
 "nbformat": 4,
 "nbformat_minor": 1
}
