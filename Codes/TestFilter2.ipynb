{
  "nbformat": 4,
  "nbformat_minor": 0,
  "metadata": {
    "colab": {
      "name": "FurtherAnalysis.ipynb",
      "provenance": []
    },
    "kernelspec": {
      "name": "python3",
      "display_name": "Python 3"
    }
  },
  "cells": [
    {
      "cell_type": "markdown",
      "metadata": {
        "id": "2Z65AZbo8FWd",
        "colab_type": "text"
      },
      "source": [
        "# `Unfiltered dataset: Importing libraries and the dataset`"
      ]
    },
    {
      "cell_type": "code",
      "metadata": {
        "id": "iGzbC6YKythr",
        "colab_type": "code",
        "outputId": "3e8d6ea3-a5af-4581-afe8-08bbb1b6f2b3",
        "colab": {
          "base_uri": "https://localhost:8080/",
          "height": 309
        }
      },
      "source": [
        "!pip install scikit-plot \n",
        "#data manipulation and visualization libraries\n",
        "import numpy as np\n",
        "import pandas as pd\n",
        "import matplotlib.pyplot as plt\n",
        "import seaborn as sns\n",
        "from collections import defaultdict\n",
        "\n",
        "#libraries for modelling and evaluation\n",
        "from sklearn.linear_model import LogisticRegression\n",
        "from sklearn.ensemble import GradientBoostingClassifier\n",
        "from sklearn.tree import DecisionTreeClassifier\n",
        "from sklearn.ensemble import RandomForestClassifier\n",
        "from sklearn.model_selection import train_test_split, GridSearchCV,cross_val_score\n",
        "from sklearn.metrics import classification_report\n",
        "from sklearn.metrics import roc_auc_score,roc_curve\n",
        "from sklearn.model_selection import KFold\n",
        "import scikitplot as skplt \n",
        "import warnings\n",
        "warnings.filterwarnings('ignore')"
      ],
      "execution_count": 1,
      "outputs": [
        {
          "output_type": "stream",
          "text": [
            "Collecting scikit-plot\n",
            "  Downloading https://files.pythonhosted.org/packages/7c/47/32520e259340c140a4ad27c1b97050dd3254fdc517b1d59974d47037510e/scikit_plot-0.3.7-py3-none-any.whl\n",
            "Requirement already satisfied: joblib>=0.10 in /usr/local/lib/python3.6/dist-packages (from scikit-plot) (0.14.1)\n",
            "Requirement already satisfied: matplotlib>=1.4.0 in /usr/local/lib/python3.6/dist-packages (from scikit-plot) (3.2.1)\n",
            "Requirement already satisfied: scipy>=0.9 in /usr/local/lib/python3.6/dist-packages (from scikit-plot) (1.4.1)\n",
            "Requirement already satisfied: scikit-learn>=0.18 in /usr/local/lib/python3.6/dist-packages (from scikit-plot) (0.22.2.post1)\n",
            "Requirement already satisfied: cycler>=0.10 in /usr/local/lib/python3.6/dist-packages (from matplotlib>=1.4.0->scikit-plot) (0.10.0)\n",
            "Requirement already satisfied: numpy>=1.11 in /usr/local/lib/python3.6/dist-packages (from matplotlib>=1.4.0->scikit-plot) (1.18.4)\n",
            "Requirement already satisfied: kiwisolver>=1.0.1 in /usr/local/lib/python3.6/dist-packages (from matplotlib>=1.4.0->scikit-plot) (1.2.0)\n",
            "Requirement already satisfied: pyparsing!=2.0.4,!=2.1.2,!=2.1.6,>=2.0.1 in /usr/local/lib/python3.6/dist-packages (from matplotlib>=1.4.0->scikit-plot) (2.4.7)\n",
            "Requirement already satisfied: python-dateutil>=2.1 in /usr/local/lib/python3.6/dist-packages (from matplotlib>=1.4.0->scikit-plot) (2.8.1)\n",
            "Requirement already satisfied: six in /usr/local/lib/python3.6/dist-packages (from cycler>=0.10->matplotlib>=1.4.0->scikit-plot) (1.12.0)\n",
            "Installing collected packages: scikit-plot\n",
            "Successfully installed scikit-plot-0.3.7\n"
          ],
          "name": "stdout"
        },
        {
          "output_type": "stream",
          "text": [
            "/usr/local/lib/python3.6/dist-packages/statsmodels/tools/_testing.py:19: FutureWarning: pandas.util.testing is deprecated. Use the functions in the public API at pandas.testing instead.\n",
            "  import pandas.util.testing as tm\n"
          ],
          "name": "stderr"
        }
      ]
    },
    {
      "cell_type": "code",
      "metadata": {
        "colab_type": "code",
        "id": "AbVUsoq77TEZ",
        "colab": {}
      },
      "source": [
        "#importing the data and making a dataframe\n",
        "data = pd.read_csv('https://raw.githubusercontent.com/IrenOkminyan/BUS288/master/ETH_USDT.csv')\n",
        "data.dropna(inplace=True)\n",
        "data=data.drop(['close_10.0_le_5_c', 'open_2_d'],axis=1)\n",
        "data.set_index(keys='Close_time', inplace=True)\n",
        "data.target=data.target.map({-1:0, 1:1})\n",
        "\n",
        "data_lr = data\n",
        "data_gb = data\n",
        "data_dt = data\n",
        "data_rf = data"
      ],
      "execution_count": 0,
      "outputs": []
    },
    {
      "cell_type": "markdown",
      "metadata": {
        "id": "MiX5Md-ENYm2",
        "colab_type": "text"
      },
      "source": [
        "# `Gradient Boosting`"
      ]
    },
    {
      "cell_type": "code",
      "metadata": {
        "colab_type": "code",
        "id": "LUED6BipPCVW",
        "colab": {}
      },
      "source": [
        "#making dummes,train test split\n",
        "data_gb = pd.get_dummies(data_gb, drop_first=True)"
      ],
      "execution_count": 0,
      "outputs": []
    },
    {
      "cell_type": "code",
      "metadata": {
        "colab_type": "code",
        "id": "ecLu-OOZPCVm",
        "colab": {}
      },
      "source": [
        "#separating X and Y\n",
        "Y = data_gb[\"target\"]\n",
        "X = data_gb.drop(\"target\",axis=1)"
      ],
      "execution_count": 0,
      "outputs": []
    },
    {
      "cell_type": "code",
      "metadata": {
        "colab_type": "code",
        "id": "eahDwIbwPCVx",
        "colab": {}
      },
      "source": [
        "#let's split X and Y data into test and train datasets, test data is 25% of overall data\n",
        "#splitting the data into train and test sets\n",
        "X0, X1, Y0, Y1 = train_test_split(X, Y, test_size=0.25, shuffle = False)"
      ],
      "execution_count": 0,
      "outputs": []
    },
    {
      "cell_type": "code",
      "metadata": {
        "colab_type": "code",
        "id": "QERt5KzGPCV5",
        "outputId": "ae1fcb9c-da69-4446-ae9c-2a8f500f3521",
        "colab": {
          "base_uri": "https://localhost:8080/",
          "height": 187
        }
      },
      "source": [
        "#building and fitting the model\n",
        "gb = GradientBoostingClassifier(random_state=42)\n",
        "gb.fit(X0,Y0)"
      ],
      "execution_count": 6,
      "outputs": [
        {
          "output_type": "execute_result",
          "data": {
            "text/plain": [
              "GradientBoostingClassifier(ccp_alpha=0.0, criterion='friedman_mse', init=None,\n",
              "                           learning_rate=0.1, loss='deviance', max_depth=3,\n",
              "                           max_features=None, max_leaf_nodes=None,\n",
              "                           min_impurity_decrease=0.0, min_impurity_split=None,\n",
              "                           min_samples_leaf=1, min_samples_split=2,\n",
              "                           min_weight_fraction_leaf=0.0, n_estimators=100,\n",
              "                           n_iter_no_change=None, presort='deprecated',\n",
              "                           random_state=42, subsample=1.0, tol=0.0001,\n",
              "                           validation_fraction=0.1, verbose=0,\n",
              "                           warm_start=False)"
            ]
          },
          "metadata": {
            "tags": []
          },
          "execution_count": 6
        }
      ]
    },
    {
      "cell_type": "code",
      "metadata": {
        "colab_type": "code",
        "id": "UCNL9QxqPCWC",
        "colab": {}
      },
      "source": [
        "#let's see the order of classes\n",
        "gb.classes_\n",
        "\n",
        "Y0_gb = gb.predict_proba(X0)[:,1]\n",
        "Y1_gb = gb.predict_proba(X1)[:,1]"
      ],
      "execution_count": 0,
      "outputs": []
    },
    {
      "cell_type": "code",
      "metadata": {
        "colab_type": "code",
        "id": "V_z7YFN6PCWL",
        "outputId": "53f3b7eb-4b64-481b-e14c-41507f319369",
        "colab": {
          "base_uri": "https://localhost:8080/",
          "height": 68
        }
      },
      "source": [
        "#calculating roc auc score using \n",
        "GB_Train = roc_auc_score(Y0,Y0_gb).round(2)\n",
        "GB_Test = roc_auc_score(Y1,Y1_gb).round(2)\n",
        "GB_Mean5 = np.mean(cross_val_score(estimator=gb,X=X,y=Y,cv=KFold(n_splits=5, shuffle=False, random_state=None), n_jobs=-1, scoring=\"roc_auc\")).round(2)\n",
        "\n",
        "print(\"ROC_AUC Train:\", GB_Train)\n",
        "print(\"ROC_AUC Test:\", GB_Train)\n",
        "print(\"Mean 5-fold ROC AUC score for GB\", GB_Mean5)"
      ],
      "execution_count": 8,
      "outputs": [
        {
          "output_type": "stream",
          "text": [
            "ROC_AUC Train: 0.69\n",
            "ROC_AUC Test: 0.69\n",
            "Mean 5-fold ROC AUC score for GB 0.54\n"
          ],
          "name": "stdout"
        }
      ]
    },
    {
      "cell_type": "code",
      "metadata": {
        "id": "hvTWWMXuig4G",
        "colab_type": "code",
        "outputId": "35b09f32-1ab8-428b-fd92-da61a764e9e2",
        "colab": {
          "base_uri": "https://localhost:8080/",
          "height": 1000
        }
      },
      "source": [
        "#retrieving the importances of features(independent variables)\n",
        "pd.DataFrame(data=gb.feature_importances_,index=X0.columns)"
      ],
      "execution_count": 9,
      "outputs": [
        {
          "output_type": "execute_result",
          "data": {
            "text/html": [
              "<div>\n",
              "<style scoped>\n",
              "    .dataframe tbody tr th:only-of-type {\n",
              "        vertical-align: middle;\n",
              "    }\n",
              "\n",
              "    .dataframe tbody tr th {\n",
              "        vertical-align: top;\n",
              "    }\n",
              "\n",
              "    .dataframe thead th {\n",
              "        text-align: right;\n",
              "    }\n",
              "</style>\n",
              "<table border=\"1\" class=\"dataframe\">\n",
              "  <thead>\n",
              "    <tr style=\"text-align: right;\">\n",
              "      <th></th>\n",
              "      <th>0</th>\n",
              "    </tr>\n",
              "  </thead>\n",
              "  <tbody>\n",
              "    <tr>\n",
              "      <th>volume_delta</th>\n",
              "      <td>0.014033</td>\n",
              "    </tr>\n",
              "    <tr>\n",
              "      <th>open_-2_r</th>\n",
              "      <td>0.047418</td>\n",
              "    </tr>\n",
              "    <tr>\n",
              "      <th>cr</th>\n",
              "      <td>0.023158</td>\n",
              "    </tr>\n",
              "    <tr>\n",
              "      <th>cr-ma1</th>\n",
              "      <td>0.021480</td>\n",
              "    </tr>\n",
              "    <tr>\n",
              "      <th>cr-ma2</th>\n",
              "      <td>0.023855</td>\n",
              "    </tr>\n",
              "    <tr>\n",
              "      <th>cr-ma3</th>\n",
              "      <td>0.021027</td>\n",
              "    </tr>\n",
              "    <tr>\n",
              "      <th>volume_-3,2,-1_max</th>\n",
              "      <td>0.060844</td>\n",
              "    </tr>\n",
              "    <tr>\n",
              "      <th>volume_-3~1_min</th>\n",
              "      <td>0.018804</td>\n",
              "    </tr>\n",
              "    <tr>\n",
              "      <th>kdjk</th>\n",
              "      <td>0.016437</td>\n",
              "    </tr>\n",
              "    <tr>\n",
              "      <th>kdjd</th>\n",
              "      <td>0.030164</td>\n",
              "    </tr>\n",
              "    <tr>\n",
              "      <th>kdjj</th>\n",
              "      <td>0.026841</td>\n",
              "    </tr>\n",
              "    <tr>\n",
              "      <th>open_2_sma</th>\n",
              "      <td>0.009778</td>\n",
              "    </tr>\n",
              "    <tr>\n",
              "      <th>macd</th>\n",
              "      <td>0.028361</td>\n",
              "    </tr>\n",
              "    <tr>\n",
              "      <th>macds</th>\n",
              "      <td>0.009465</td>\n",
              "    </tr>\n",
              "    <tr>\n",
              "      <th>macdh</th>\n",
              "      <td>0.035948</td>\n",
              "    </tr>\n",
              "    <tr>\n",
              "      <th>boll</th>\n",
              "      <td>0.006472</td>\n",
              "    </tr>\n",
              "    <tr>\n",
              "      <th>boll_ub</th>\n",
              "      <td>0.005085</td>\n",
              "    </tr>\n",
              "    <tr>\n",
              "      <th>boll_lb</th>\n",
              "      <td>0.006323</td>\n",
              "    </tr>\n",
              "    <tr>\n",
              "      <th>cr-ma2_xu_cr-ma1_20_c</th>\n",
              "      <td>0.000000</td>\n",
              "    </tr>\n",
              "    <tr>\n",
              "      <th>close_10.0_ge_5_fc</th>\n",
              "      <td>0.000645</td>\n",
              "    </tr>\n",
              "    <tr>\n",
              "      <th>rsi_6</th>\n",
              "      <td>0.049618</td>\n",
              "    </tr>\n",
              "    <tr>\n",
              "      <th>rsi_12</th>\n",
              "      <td>0.009693</td>\n",
              "    </tr>\n",
              "    <tr>\n",
              "      <th>wr_10</th>\n",
              "      <td>0.024690</td>\n",
              "    </tr>\n",
              "    <tr>\n",
              "      <th>wr_6</th>\n",
              "      <td>0.111213</td>\n",
              "    </tr>\n",
              "    <tr>\n",
              "      <th>cci</th>\n",
              "      <td>0.031026</td>\n",
              "    </tr>\n",
              "    <tr>\n",
              "      <th>cci_20</th>\n",
              "      <td>0.014343</td>\n",
              "    </tr>\n",
              "    <tr>\n",
              "      <th>tr</th>\n",
              "      <td>0.022537</td>\n",
              "    </tr>\n",
              "    <tr>\n",
              "      <th>atr</th>\n",
              "      <td>0.028049</td>\n",
              "    </tr>\n",
              "    <tr>\n",
              "      <th>dma</th>\n",
              "      <td>0.011268</td>\n",
              "    </tr>\n",
              "    <tr>\n",
              "      <th>pdi</th>\n",
              "      <td>0.022567</td>\n",
              "    </tr>\n",
              "    <tr>\n",
              "      <th>mdi</th>\n",
              "      <td>0.016458</td>\n",
              "    </tr>\n",
              "    <tr>\n",
              "      <th>dx</th>\n",
              "      <td>0.006076</td>\n",
              "    </tr>\n",
              "    <tr>\n",
              "      <th>adx</th>\n",
              "      <td>0.018779</td>\n",
              "    </tr>\n",
              "    <tr>\n",
              "      <th>adxr</th>\n",
              "      <td>0.022303</td>\n",
              "    </tr>\n",
              "    <tr>\n",
              "      <th>trix</th>\n",
              "      <td>0.029570</td>\n",
              "    </tr>\n",
              "    <tr>\n",
              "      <th>trix_9_sma</th>\n",
              "      <td>0.010683</td>\n",
              "    </tr>\n",
              "    <tr>\n",
              "      <th>tema</th>\n",
              "      <td>0.013787</td>\n",
              "    </tr>\n",
              "    <tr>\n",
              "      <th>vr</th>\n",
              "      <td>0.012642</td>\n",
              "    </tr>\n",
              "    <tr>\n",
              "      <th>vr_6_sma</th>\n",
              "      <td>0.031355</td>\n",
              "    </tr>\n",
              "    <tr>\n",
              "      <th>Open</th>\n",
              "      <td>0.003341</td>\n",
              "    </tr>\n",
              "    <tr>\n",
              "      <th>Close</th>\n",
              "      <td>0.008853</td>\n",
              "    </tr>\n",
              "    <tr>\n",
              "      <th>High</th>\n",
              "      <td>0.014999</td>\n",
              "    </tr>\n",
              "    <tr>\n",
              "      <th>Low</th>\n",
              "      <td>0.009276</td>\n",
              "    </tr>\n",
              "    <tr>\n",
              "      <th>Volume</th>\n",
              "      <td>0.039844</td>\n",
              "    </tr>\n",
              "    <tr>\n",
              "      <th>Number_of_trades</th>\n",
              "      <td>0.030891</td>\n",
              "    </tr>\n",
              "  </tbody>\n",
              "</table>\n",
              "</div>"
            ],
            "text/plain": [
              "                              0\n",
              "volume_delta           0.014033\n",
              "open_-2_r              0.047418\n",
              "cr                     0.023158\n",
              "cr-ma1                 0.021480\n",
              "cr-ma2                 0.023855\n",
              "cr-ma3                 0.021027\n",
              "volume_-3,2,-1_max     0.060844\n",
              "volume_-3~1_min        0.018804\n",
              "kdjk                   0.016437\n",
              "kdjd                   0.030164\n",
              "kdjj                   0.026841\n",
              "open_2_sma             0.009778\n",
              "macd                   0.028361\n",
              "macds                  0.009465\n",
              "macdh                  0.035948\n",
              "boll                   0.006472\n",
              "boll_ub                0.005085\n",
              "boll_lb                0.006323\n",
              "cr-ma2_xu_cr-ma1_20_c  0.000000\n",
              "close_10.0_ge_5_fc     0.000645\n",
              "rsi_6                  0.049618\n",
              "rsi_12                 0.009693\n",
              "wr_10                  0.024690\n",
              "wr_6                   0.111213\n",
              "cci                    0.031026\n",
              "cci_20                 0.014343\n",
              "tr                     0.022537\n",
              "atr                    0.028049\n",
              "dma                    0.011268\n",
              "pdi                    0.022567\n",
              "mdi                    0.016458\n",
              "dx                     0.006076\n",
              "adx                    0.018779\n",
              "adxr                   0.022303\n",
              "trix                   0.029570\n",
              "trix_9_sma             0.010683\n",
              "tema                   0.013787\n",
              "vr                     0.012642\n",
              "vr_6_sma               0.031355\n",
              "Open                   0.003341\n",
              "Close                  0.008853\n",
              "High                   0.014999\n",
              "Low                    0.009276\n",
              "Volume                 0.039844\n",
              "Number_of_trades       0.030891"
            ]
          },
          "metadata": {
            "tags": []
          },
          "execution_count": 9
        }
      ]
    },
    {
      "cell_type": "markdown",
      "metadata": {
        "id": "C37Qh-qTYLIN",
        "colab_type": "text"
      },
      "source": [
        "# `Tuned Gradient Boosting Classifier`"
      ]
    },
    {
      "cell_type": "code",
      "metadata": {
        "colab_type": "code",
        "id": "GrUvD3hnYM_D",
        "outputId": "e0637447-dab2-48e6-854a-679175bf888b",
        "colab": {
          "base_uri": "https://localhost:8080/",
          "height": 68
        }
      },
      "source": [
        "#building GridSearch with Logistic Regression\n",
        "gs_gb = GradientBoostingClassifier(random_state=42)\n",
        "\n",
        "param_gb = { \"max_depth\":[3,5,8] }\n",
        "\n",
        "\n",
        "gb_gs = GridSearchCV(estimator = gs_gb,\n",
        "                      param_grid = param_gb,\n",
        "                      scoring = \"roc_auc\", cv=KFold(n_splits=5, shuffle=False, random_state=None), verbose=1, n_jobs=-1).fit(X0,Y0)"
      ],
      "execution_count": 10,
      "outputs": [
        {
          "output_type": "stream",
          "text": [
            "Fitting 5 folds for each of 3 candidates, totalling 15 fits\n"
          ],
          "name": "stdout"
        },
        {
          "output_type": "stream",
          "text": [
            "[Parallel(n_jobs=-1)]: Using backend LokyBackend with 2 concurrent workers.\n",
            "[Parallel(n_jobs=-1)]: Done  15 out of  15 | elapsed:  5.3min finished\n"
          ],
          "name": "stderr"
        }
      ]
    },
    {
      "cell_type": "code",
      "metadata": {
        "colab_type": "code",
        "id": "sfO0wHfMYM_V",
        "outputId": "d703a22e-a934-4ed2-c9a3-5440c9860b1e",
        "colab": {
          "base_uri": "https://localhost:8080/",
          "height": 34
        }
      },
      "source": [
        "#finding out the best parameters\n",
        "gb_gs.best_params_"
      ],
      "execution_count": 11,
      "outputs": [
        {
          "output_type": "execute_result",
          "data": {
            "text/plain": [
              "{'max_depth': 5}"
            ]
          },
          "metadata": {
            "tags": []
          },
          "execution_count": 11
        }
      ]
    },
    {
      "cell_type": "code",
      "metadata": {
        "colab_type": "code",
        "id": "KF6EPSaaYM_h",
        "colab": {}
      },
      "source": [
        "#building logit with best params and seeing the results\n",
        "pm = gb_gs.best_params_\n",
        "gb_grid = GradientBoostingClassifier(max_depth = pm['max_depth'],random_state=42).fit(X0,Y0)\n",
        "\n",
        "Y0_gb_gs = gb_grid.predict_proba(X0)[:,1]\n",
        "Y1_gb_gs = gb_grid.predict_proba(X1)[:,1]\n"
      ],
      "execution_count": 0,
      "outputs": []
    },
    {
      "cell_type": "code",
      "metadata": {
        "colab_type": "code",
        "id": "QZF_W1RWYM_q",
        "outputId": "fb069369-9156-433d-975f-4d29e72e0355",
        "colab": {
          "base_uri": "https://localhost:8080/",
          "height": 68
        }
      },
      "source": [
        "#calculating roc auc score using\n",
        "GB_GS_Train = roc_auc_score(Y0,Y0_gb_gs).round(2)\n",
        "GB_GS_Test = roc_auc_score(Y1,Y1_gb_gs).round(2)\n",
        "GB_GS_Mean5 = np.mean(cross_val_score(estimator=gb_grid,X=X,y=Y,cv=KFold(n_splits=5, shuffle=False, random_state=None),n_jobs=-1, scoring=\"roc_auc\")).round(2)\n",
        "\n",
        "print(\"ROC_AUC Train for tuned GB:\", GB_GS_Train)\n",
        "print(\"ROC_AUC Test for tuned GB:\", GB_GS_Test)\n",
        "print(\"Mean 5-fold ROC AUC score for Tuned GB\", GB_GS_Mean5)"
      ],
      "execution_count": 13,
      "outputs": [
        {
          "output_type": "stream",
          "text": [
            "ROC_AUC Train for tuned GB: 0.86\n",
            "ROC_AUC Test for tuned GB: 0.55\n",
            "Mean 5-fold ROC AUC score for Tuned GB 0.54\n"
          ],
          "name": "stdout"
        }
      ]
    },
    {
      "cell_type": "code",
      "metadata": {
        "id": "Vt3Q9kRXinBE",
        "colab_type": "code",
        "outputId": "41972c27-12c7-44d1-ffe5-7428857418a8",
        "colab": {
          "base_uri": "https://localhost:8080/",
          "height": 1000
        }
      },
      "source": [
        "#retrieving the importances of features(independent variables)\n",
        "pd.DataFrame(data=gb_grid.feature_importances_,index=X0.columns)"
      ],
      "execution_count": 14,
      "outputs": [
        {
          "output_type": "execute_result",
          "data": {
            "text/html": [
              "<div>\n",
              "<style scoped>\n",
              "    .dataframe tbody tr th:only-of-type {\n",
              "        vertical-align: middle;\n",
              "    }\n",
              "\n",
              "    .dataframe tbody tr th {\n",
              "        vertical-align: top;\n",
              "    }\n",
              "\n",
              "    .dataframe thead th {\n",
              "        text-align: right;\n",
              "    }\n",
              "</style>\n",
              "<table border=\"1\" class=\"dataframe\">\n",
              "  <thead>\n",
              "    <tr style=\"text-align: right;\">\n",
              "      <th></th>\n",
              "      <th>0</th>\n",
              "    </tr>\n",
              "  </thead>\n",
              "  <tbody>\n",
              "    <tr>\n",
              "      <th>volume_delta</th>\n",
              "      <td>0.029312</td>\n",
              "    </tr>\n",
              "    <tr>\n",
              "      <th>open_-2_r</th>\n",
              "      <td>0.047414</td>\n",
              "    </tr>\n",
              "    <tr>\n",
              "      <th>cr</th>\n",
              "      <td>0.032350</td>\n",
              "    </tr>\n",
              "    <tr>\n",
              "      <th>cr-ma1</th>\n",
              "      <td>0.018906</td>\n",
              "    </tr>\n",
              "    <tr>\n",
              "      <th>cr-ma2</th>\n",
              "      <td>0.019430</td>\n",
              "    </tr>\n",
              "    <tr>\n",
              "      <th>cr-ma3</th>\n",
              "      <td>0.028279</td>\n",
              "    </tr>\n",
              "    <tr>\n",
              "      <th>volume_-3,2,-1_max</th>\n",
              "      <td>0.046157</td>\n",
              "    </tr>\n",
              "    <tr>\n",
              "      <th>volume_-3~1_min</th>\n",
              "      <td>0.023581</td>\n",
              "    </tr>\n",
              "    <tr>\n",
              "      <th>kdjk</th>\n",
              "      <td>0.021316</td>\n",
              "    </tr>\n",
              "    <tr>\n",
              "      <th>kdjd</th>\n",
              "      <td>0.026431</td>\n",
              "    </tr>\n",
              "    <tr>\n",
              "      <th>kdjj</th>\n",
              "      <td>0.024311</td>\n",
              "    </tr>\n",
              "    <tr>\n",
              "      <th>open_2_sma</th>\n",
              "      <td>0.005053</td>\n",
              "    </tr>\n",
              "    <tr>\n",
              "      <th>macd</th>\n",
              "      <td>0.027754</td>\n",
              "    </tr>\n",
              "    <tr>\n",
              "      <th>macds</th>\n",
              "      <td>0.009159</td>\n",
              "    </tr>\n",
              "    <tr>\n",
              "      <th>macdh</th>\n",
              "      <td>0.031537</td>\n",
              "    </tr>\n",
              "    <tr>\n",
              "      <th>boll</th>\n",
              "      <td>0.007350</td>\n",
              "    </tr>\n",
              "    <tr>\n",
              "      <th>boll_ub</th>\n",
              "      <td>0.007112</td>\n",
              "    </tr>\n",
              "    <tr>\n",
              "      <th>boll_lb</th>\n",
              "      <td>0.012940</td>\n",
              "    </tr>\n",
              "    <tr>\n",
              "      <th>cr-ma2_xu_cr-ma1_20_c</th>\n",
              "      <td>0.000000</td>\n",
              "    </tr>\n",
              "    <tr>\n",
              "      <th>close_10.0_ge_5_fc</th>\n",
              "      <td>0.000604</td>\n",
              "    </tr>\n",
              "    <tr>\n",
              "      <th>rsi_6</th>\n",
              "      <td>0.033268</td>\n",
              "    </tr>\n",
              "    <tr>\n",
              "      <th>rsi_12</th>\n",
              "      <td>0.019088</td>\n",
              "    </tr>\n",
              "    <tr>\n",
              "      <th>wr_10</th>\n",
              "      <td>0.028741</td>\n",
              "    </tr>\n",
              "    <tr>\n",
              "      <th>wr_6</th>\n",
              "      <td>0.060264</td>\n",
              "    </tr>\n",
              "    <tr>\n",
              "      <th>cci</th>\n",
              "      <td>0.028061</td>\n",
              "    </tr>\n",
              "    <tr>\n",
              "      <th>cci_20</th>\n",
              "      <td>0.014820</td>\n",
              "    </tr>\n",
              "    <tr>\n",
              "      <th>tr</th>\n",
              "      <td>0.029956</td>\n",
              "    </tr>\n",
              "    <tr>\n",
              "      <th>atr</th>\n",
              "      <td>0.023086</td>\n",
              "    </tr>\n",
              "    <tr>\n",
              "      <th>dma</th>\n",
              "      <td>0.013780</td>\n",
              "    </tr>\n",
              "    <tr>\n",
              "      <th>pdi</th>\n",
              "      <td>0.031527</td>\n",
              "    </tr>\n",
              "    <tr>\n",
              "      <th>mdi</th>\n",
              "      <td>0.022781</td>\n",
              "    </tr>\n",
              "    <tr>\n",
              "      <th>dx</th>\n",
              "      <td>0.021076</td>\n",
              "    </tr>\n",
              "    <tr>\n",
              "      <th>adx</th>\n",
              "      <td>0.028707</td>\n",
              "    </tr>\n",
              "    <tr>\n",
              "      <th>adxr</th>\n",
              "      <td>0.030738</td>\n",
              "    </tr>\n",
              "    <tr>\n",
              "      <th>trix</th>\n",
              "      <td>0.024654</td>\n",
              "    </tr>\n",
              "    <tr>\n",
              "      <th>trix_9_sma</th>\n",
              "      <td>0.010824</td>\n",
              "    </tr>\n",
              "    <tr>\n",
              "      <th>tema</th>\n",
              "      <td>0.009648</td>\n",
              "    </tr>\n",
              "    <tr>\n",
              "      <th>vr</th>\n",
              "      <td>0.022234</td>\n",
              "    </tr>\n",
              "    <tr>\n",
              "      <th>vr_6_sma</th>\n",
              "      <td>0.026910</td>\n",
              "    </tr>\n",
              "    <tr>\n",
              "      <th>Open</th>\n",
              "      <td>0.007083</td>\n",
              "    </tr>\n",
              "    <tr>\n",
              "      <th>Close</th>\n",
              "      <td>0.009213</td>\n",
              "    </tr>\n",
              "    <tr>\n",
              "      <th>High</th>\n",
              "      <td>0.009803</td>\n",
              "    </tr>\n",
              "    <tr>\n",
              "      <th>Low</th>\n",
              "      <td>0.008518</td>\n",
              "    </tr>\n",
              "    <tr>\n",
              "      <th>Volume</th>\n",
              "      <td>0.042493</td>\n",
              "    </tr>\n",
              "    <tr>\n",
              "      <th>Number_of_trades</th>\n",
              "      <td>0.023729</td>\n",
              "    </tr>\n",
              "  </tbody>\n",
              "</table>\n",
              "</div>"
            ],
            "text/plain": [
              "                              0\n",
              "volume_delta           0.029312\n",
              "open_-2_r              0.047414\n",
              "cr                     0.032350\n",
              "cr-ma1                 0.018906\n",
              "cr-ma2                 0.019430\n",
              "cr-ma3                 0.028279\n",
              "volume_-3,2,-1_max     0.046157\n",
              "volume_-3~1_min        0.023581\n",
              "kdjk                   0.021316\n",
              "kdjd                   0.026431\n",
              "kdjj                   0.024311\n",
              "open_2_sma             0.005053\n",
              "macd                   0.027754\n",
              "macds                  0.009159\n",
              "macdh                  0.031537\n",
              "boll                   0.007350\n",
              "boll_ub                0.007112\n",
              "boll_lb                0.012940\n",
              "cr-ma2_xu_cr-ma1_20_c  0.000000\n",
              "close_10.0_ge_5_fc     0.000604\n",
              "rsi_6                  0.033268\n",
              "rsi_12                 0.019088\n",
              "wr_10                  0.028741\n",
              "wr_6                   0.060264\n",
              "cci                    0.028061\n",
              "cci_20                 0.014820\n",
              "tr                     0.029956\n",
              "atr                    0.023086\n",
              "dma                    0.013780\n",
              "pdi                    0.031527\n",
              "mdi                    0.022781\n",
              "dx                     0.021076\n",
              "adx                    0.028707\n",
              "adxr                   0.030738\n",
              "trix                   0.024654\n",
              "trix_9_sma             0.010824\n",
              "tema                   0.009648\n",
              "vr                     0.022234\n",
              "vr_6_sma               0.026910\n",
              "Open                   0.007083\n",
              "Close                  0.009213\n",
              "High                   0.009803\n",
              "Low                    0.008518\n",
              "Volume                 0.042493\n",
              "Number_of_trades       0.023729"
            ]
          },
          "metadata": {
            "tags": []
          },
          "execution_count": 14
        }
      ]
    },
    {
      "cell_type": "markdown",
      "metadata": {
        "id": "NWfrrfVV1Zru",
        "colab_type": "text"
      },
      "source": [
        "# `Decision Tree`"
      ]
    },
    {
      "cell_type": "code",
      "metadata": {
        "id": "dCUNZBRy4yQE",
        "colab_type": "code",
        "colab": {}
      },
      "source": [
        "data_dt = pd.get_dummies(data_dt,drop_first=True)\n",
        "\n",
        "Y = data_dt[\"target\"]\n",
        "X = data_dt.drop(\"target\",axis=1)\n",
        "\n",
        "X0, X1, Y0, Y1 = train_test_split(X,Y,test_size =0.25, shuffle = False)"
      ],
      "execution_count": 0,
      "outputs": []
    },
    {
      "cell_type": "code",
      "metadata": {
        "id": "3DUXcT0a3opr",
        "colab_type": "code",
        "outputId": "539c9181-fbce-4876-a482-c4250a200603",
        "colab": {
          "base_uri": "https://localhost:8080/",
          "height": 119
        }
      },
      "source": [
        "#building DT with default hyperparameters\n",
        "dt = DecisionTreeClassifier(random_state=42)\n",
        "dt.fit(X0,Y0)"
      ],
      "execution_count": 16,
      "outputs": [
        {
          "output_type": "execute_result",
          "data": {
            "text/plain": [
              "DecisionTreeClassifier(ccp_alpha=0.0, class_weight=None, criterion='gini',\n",
              "                       max_depth=None, max_features=None, max_leaf_nodes=None,\n",
              "                       min_impurity_decrease=0.0, min_impurity_split=None,\n",
              "                       min_samples_leaf=1, min_samples_split=2,\n",
              "                       min_weight_fraction_leaf=0.0, presort='deprecated',\n",
              "                       random_state=42, splitter='best')"
            ]
          },
          "metadata": {
            "tags": []
          },
          "execution_count": 16
        }
      ]
    },
    {
      "cell_type": "code",
      "metadata": {
        "id": "ho7s-PWS1gD5",
        "colab_type": "code",
        "colab": {}
      },
      "source": [
        "#calculating probabilities\n",
        "Y0_dt=dt.predict_proba(X0)[:,1]\n",
        "Y1_dt=dt.predict_proba(X1)[:,1]"
      ],
      "execution_count": 0,
      "outputs": []
    },
    {
      "cell_type": "code",
      "metadata": {
        "id": "kgDM4G-3-17S",
        "colab_type": "code",
        "outputId": "76629dd7-3095-44ba-eae1-b8fdc153ed14",
        "colab": {
          "base_uri": "https://localhost:8080/",
          "height": 68
        }
      },
      "source": [
        "#printing the ROC AUC scores for training and testing sets\n",
        "DT_Train = roc_auc_score(Y0,Y0_dt).round(2)\n",
        "DT_Test = roc_auc_score(Y1,Y1_dt).round(2)\n",
        "DT_Mean5 = np.mean(cross_val_score(estimator = dt,X=X,y=Y,cv=KFold(n_splits=5, shuffle=False, random_state=None), n_jobs=-1, scoring=\"roc_auc\")).round(2)\n",
        "\n",
        "\n",
        "print(\"ROC_AUC Train for fully grown DT:\",DT_Train)\n",
        "print(\"ROC_AUC Test for fully grown DT:\", DT_Test)\n",
        "print(\"Mean 5-fold ROC AUC score for Decision Tree\", DT_Mean5)"
      ],
      "execution_count": 18,
      "outputs": [
        {
          "output_type": "stream",
          "text": [
            "ROC_AUC Train for fully grown DT: 1.0\n",
            "ROC_AUC Test for fully grown DT: 0.53\n",
            "Mean 5-fold ROC AUC score for Decision Tree 0.51\n"
          ],
          "name": "stdout"
        }
      ]
    },
    {
      "cell_type": "code",
      "metadata": {
        "id": "nVYVIf-mOuZ9",
        "colab_type": "code",
        "outputId": "93367bdb-8d8e-42a0-b178-9accd4b04d0e",
        "colab": {
          "base_uri": "https://localhost:8080/",
          "height": 1000
        }
      },
      "source": [
        "#retrieving the importances of features(independent variables)\n",
        "pd.DataFrame(data=dt.feature_importances_,index=X0.columns)"
      ],
      "execution_count": 19,
      "outputs": [
        {
          "output_type": "execute_result",
          "data": {
            "text/html": [
              "<div>\n",
              "<style scoped>\n",
              "    .dataframe tbody tr th:only-of-type {\n",
              "        vertical-align: middle;\n",
              "    }\n",
              "\n",
              "    .dataframe tbody tr th {\n",
              "        vertical-align: top;\n",
              "    }\n",
              "\n",
              "    .dataframe thead th {\n",
              "        text-align: right;\n",
              "    }\n",
              "</style>\n",
              "<table border=\"1\" class=\"dataframe\">\n",
              "  <thead>\n",
              "    <tr style=\"text-align: right;\">\n",
              "      <th></th>\n",
              "      <th>0</th>\n",
              "    </tr>\n",
              "  </thead>\n",
              "  <tbody>\n",
              "    <tr>\n",
              "      <th>volume_delta</th>\n",
              "      <td>0.026888</td>\n",
              "    </tr>\n",
              "    <tr>\n",
              "      <th>open_-2_r</th>\n",
              "      <td>0.047374</td>\n",
              "    </tr>\n",
              "    <tr>\n",
              "      <th>cr</th>\n",
              "      <td>0.033913</td>\n",
              "    </tr>\n",
              "    <tr>\n",
              "      <th>cr-ma1</th>\n",
              "      <td>0.017059</td>\n",
              "    </tr>\n",
              "    <tr>\n",
              "      <th>cr-ma2</th>\n",
              "      <td>0.021518</td>\n",
              "    </tr>\n",
              "    <tr>\n",
              "      <th>cr-ma3</th>\n",
              "      <td>0.032351</td>\n",
              "    </tr>\n",
              "    <tr>\n",
              "      <th>volume_-3,2,-1_max</th>\n",
              "      <td>0.040232</td>\n",
              "    </tr>\n",
              "    <tr>\n",
              "      <th>volume_-3~1_min</th>\n",
              "      <td>0.025963</td>\n",
              "    </tr>\n",
              "    <tr>\n",
              "      <th>kdjk</th>\n",
              "      <td>0.020194</td>\n",
              "    </tr>\n",
              "    <tr>\n",
              "      <th>kdjd</th>\n",
              "      <td>0.027843</td>\n",
              "    </tr>\n",
              "    <tr>\n",
              "      <th>kdjj</th>\n",
              "      <td>0.028287</td>\n",
              "    </tr>\n",
              "    <tr>\n",
              "      <th>open_2_sma</th>\n",
              "      <td>0.008697</td>\n",
              "    </tr>\n",
              "    <tr>\n",
              "      <th>macd</th>\n",
              "      <td>0.017628</td>\n",
              "    </tr>\n",
              "    <tr>\n",
              "      <th>macds</th>\n",
              "      <td>0.018434</td>\n",
              "    </tr>\n",
              "    <tr>\n",
              "      <th>macdh</th>\n",
              "      <td>0.028442</td>\n",
              "    </tr>\n",
              "    <tr>\n",
              "      <th>boll</th>\n",
              "      <td>0.004718</td>\n",
              "    </tr>\n",
              "    <tr>\n",
              "      <th>boll_ub</th>\n",
              "      <td>0.005918</td>\n",
              "    </tr>\n",
              "    <tr>\n",
              "      <th>boll_lb</th>\n",
              "      <td>0.015754</td>\n",
              "    </tr>\n",
              "    <tr>\n",
              "      <th>cr-ma2_xu_cr-ma1_20_c</th>\n",
              "      <td>0.000000</td>\n",
              "    </tr>\n",
              "    <tr>\n",
              "      <th>close_10.0_ge_5_fc</th>\n",
              "      <td>0.000000</td>\n",
              "    </tr>\n",
              "    <tr>\n",
              "      <th>rsi_6</th>\n",
              "      <td>0.026642</td>\n",
              "    </tr>\n",
              "    <tr>\n",
              "      <th>rsi_12</th>\n",
              "      <td>0.024858</td>\n",
              "    </tr>\n",
              "    <tr>\n",
              "      <th>wr_10</th>\n",
              "      <td>0.027238</td>\n",
              "    </tr>\n",
              "    <tr>\n",
              "      <th>wr_6</th>\n",
              "      <td>0.036607</td>\n",
              "    </tr>\n",
              "    <tr>\n",
              "      <th>cci</th>\n",
              "      <td>0.033246</td>\n",
              "    </tr>\n",
              "    <tr>\n",
              "      <th>cci_20</th>\n",
              "      <td>0.023188</td>\n",
              "    </tr>\n",
              "    <tr>\n",
              "      <th>tr</th>\n",
              "      <td>0.028178</td>\n",
              "    </tr>\n",
              "    <tr>\n",
              "      <th>atr</th>\n",
              "      <td>0.021950</td>\n",
              "    </tr>\n",
              "    <tr>\n",
              "      <th>dma</th>\n",
              "      <td>0.024803</td>\n",
              "    </tr>\n",
              "    <tr>\n",
              "      <th>pdi</th>\n",
              "      <td>0.036955</td>\n",
              "    </tr>\n",
              "    <tr>\n",
              "      <th>mdi</th>\n",
              "      <td>0.023004</td>\n",
              "    </tr>\n",
              "    <tr>\n",
              "      <th>dx</th>\n",
              "      <td>0.024741</td>\n",
              "    </tr>\n",
              "    <tr>\n",
              "      <th>adx</th>\n",
              "      <td>0.026261</td>\n",
              "    </tr>\n",
              "    <tr>\n",
              "      <th>adxr</th>\n",
              "      <td>0.029563</td>\n",
              "    </tr>\n",
              "    <tr>\n",
              "      <th>trix</th>\n",
              "      <td>0.023962</td>\n",
              "    </tr>\n",
              "    <tr>\n",
              "      <th>trix_9_sma</th>\n",
              "      <td>0.020366</td>\n",
              "    </tr>\n",
              "    <tr>\n",
              "      <th>tema</th>\n",
              "      <td>0.006735</td>\n",
              "    </tr>\n",
              "    <tr>\n",
              "      <th>vr</th>\n",
              "      <td>0.025434</td>\n",
              "    </tr>\n",
              "    <tr>\n",
              "      <th>vr_6_sma</th>\n",
              "      <td>0.023353</td>\n",
              "    </tr>\n",
              "    <tr>\n",
              "      <th>Open</th>\n",
              "      <td>0.010344</td>\n",
              "    </tr>\n",
              "    <tr>\n",
              "      <th>Close</th>\n",
              "      <td>0.006317</td>\n",
              "    </tr>\n",
              "    <tr>\n",
              "      <th>High</th>\n",
              "      <td>0.006656</td>\n",
              "    </tr>\n",
              "    <tr>\n",
              "      <th>Low</th>\n",
              "      <td>0.008233</td>\n",
              "    </tr>\n",
              "    <tr>\n",
              "      <th>Volume</th>\n",
              "      <td>0.029344</td>\n",
              "    </tr>\n",
              "    <tr>\n",
              "      <th>Number_of_trades</th>\n",
              "      <td>0.030808</td>\n",
              "    </tr>\n",
              "  </tbody>\n",
              "</table>\n",
              "</div>"
            ],
            "text/plain": [
              "                              0\n",
              "volume_delta           0.026888\n",
              "open_-2_r              0.047374\n",
              "cr                     0.033913\n",
              "cr-ma1                 0.017059\n",
              "cr-ma2                 0.021518\n",
              "cr-ma3                 0.032351\n",
              "volume_-3,2,-1_max     0.040232\n",
              "volume_-3~1_min        0.025963\n",
              "kdjk                   0.020194\n",
              "kdjd                   0.027843\n",
              "kdjj                   0.028287\n",
              "open_2_sma             0.008697\n",
              "macd                   0.017628\n",
              "macds                  0.018434\n",
              "macdh                  0.028442\n",
              "boll                   0.004718\n",
              "boll_ub                0.005918\n",
              "boll_lb                0.015754\n",
              "cr-ma2_xu_cr-ma1_20_c  0.000000\n",
              "close_10.0_ge_5_fc     0.000000\n",
              "rsi_6                  0.026642\n",
              "rsi_12                 0.024858\n",
              "wr_10                  0.027238\n",
              "wr_6                   0.036607\n",
              "cci                    0.033246\n",
              "cci_20                 0.023188\n",
              "tr                     0.028178\n",
              "atr                    0.021950\n",
              "dma                    0.024803\n",
              "pdi                    0.036955\n",
              "mdi                    0.023004\n",
              "dx                     0.024741\n",
              "adx                    0.026261\n",
              "adxr                   0.029563\n",
              "trix                   0.023962\n",
              "trix_9_sma             0.020366\n",
              "tema                   0.006735\n",
              "vr                     0.025434\n",
              "vr_6_sma               0.023353\n",
              "Open                   0.010344\n",
              "Close                  0.006317\n",
              "High                   0.006656\n",
              "Low                    0.008233\n",
              "Volume                 0.029344\n",
              "Number_of_trades       0.030808"
            ]
          },
          "metadata": {
            "tags": []
          },
          "execution_count": 19
        }
      ]
    },
    {
      "cell_type": "markdown",
      "metadata": {
        "id": "VZHL2P5f_JM3",
        "colab_type": "text"
      },
      "source": [
        "# `Filtered dataset: Importing libraries and the dataset`"
      ]
    },
    {
      "cell_type": "code",
      "metadata": {
        "id": "-YSACzKT-4Wb",
        "colab_type": "code",
        "colab": {}
      },
      "source": [
        " #importing the data and making a dataframe\n",
        "data = pd.read_csv('https://raw.githubusercontent.com/IrenOkminyan/BUS288/master/ETH_USDT.csv')\n",
        "data.dropna(inplace=True)\n",
        "data=data.drop(['close_10.0_le_5_c'],axis=1)\n",
        "data=data.drop(['close_10.0_ge_5_fc', 'cci_20', 'wr_6', 'rsi_12', 'trix_9_sma', 'open_2_sma', 'macds', 'boll', 'boll_lb', 'kdjj', 'kdjd', 'rsi_6', 'wr_10', 'cci', 'macd', 'boll_ub', 'adx', 'adxr', 'tema'],axis=1)\n",
        "data=data.drop(['atr', 'vr', 'vr_6_sma','Open', 'Close', 'High', 'Low', 'volume_-3~1_min', 'kdjk', 'trix', 'cr', 'cr-ma1', 'cr-ma2', 'cr-ma3'], axis = 1)\n",
        "data=data.drop(['Volume', 'Number_of_trades', 'mdi', 'tr', 'volume_-3,2,-1_max', 'open_2_d'], axis = 1)\n",
        "\n",
        "data.set_index(keys='Close_time', inplace=True)\n",
        "data.target=data.target.map({-1:0, 1:1})\n",
        "\n",
        "data_lr = data\n",
        "data_gb = data\n",
        "data_dt = data\n",
        "data_rf = data"
      ],
      "execution_count": 0,
      "outputs": []
    },
    {
      "cell_type": "markdown",
      "metadata": {
        "colab_type": "text",
        "id": "YoTggFKdJItF"
      },
      "source": [
        "# `Tuned Gradient Boosting Classifier`"
      ]
    },
    {
      "cell_type": "code",
      "metadata": {
        "colab_type": "code",
        "outputId": "92e327a5-b662-4441-a98a-ddfb7c2dac92",
        "id": "tcocUkZEJItJ",
        "colab": {
          "base_uri": "https://localhost:8080/",
          "height": 68
        }
      },
      "source": [
        "#building GridSearch with Logistic Regression\n",
        "gs_gb = GradientBoostingClassifier(random_state=42)\n",
        "\n",
        "param_gb = { \"max_depth\":[3,5,8] }\n",
        "\n",
        "\n",
        "gb_gs = GridSearchCV(estimator = gs_gb,\n",
        "                      param_grid = param_gb,\n",
        "                      scoring = \"roc_auc\", cv=KFold(n_splits=5, shuffle=False, random_state=None), verbose=1, n_jobs=-1).fit(X0,Y0)"
      ],
      "execution_count": 35,
      "outputs": [
        {
          "output_type": "stream",
          "text": [
            "Fitting 5 folds for each of 3 candidates, totalling 15 fits\n"
          ],
          "name": "stdout"
        },
        {
          "output_type": "stream",
          "text": [
            "[Parallel(n_jobs=-1)]: Using backend LokyBackend with 2 concurrent workers.\n",
            "[Parallel(n_jobs=-1)]: Done  15 out of  15 | elapsed:   48.6s finished\n"
          ],
          "name": "stderr"
        }
      ]
    },
    {
      "cell_type": "code",
      "metadata": {
        "colab_type": "code",
        "outputId": "704068a7-ac4b-48fc-d583-db8f0a348bd6",
        "id": "vN0GEl2kJItZ",
        "colab": {
          "base_uri": "https://localhost:8080/",
          "height": 34
        }
      },
      "source": [
        "#finding out the best parameters\n",
        "gb_gs.best_params_"
      ],
      "execution_count": 36,
      "outputs": [
        {
          "output_type": "execute_result",
          "data": {
            "text/plain": [
              "{'max_depth': 5}"
            ]
          },
          "metadata": {
            "tags": []
          },
          "execution_count": 36
        }
      ]
    },
    {
      "cell_type": "code",
      "metadata": {
        "colab_type": "code",
        "id": "W7fOXeeYJItq",
        "colab": {}
      },
      "source": [
        "#building logit with best params and seeing the results\n",
        "pm = gb_gs.best_params_\n",
        "gb_grid = GradientBoostingClassifier( max_depth = pm['max_depth'],random_state=42).fit(X0,Y0)\n",
        "\n",
        "Y0_gb_gs = gb_grid.predict_proba(X0)[:,1]\n",
        "Y1_gb_gs = gb_grid.predict_proba(X1)[:,1]\n"
      ],
      "execution_count": 0,
      "outputs": []
    },
    {
      "cell_type": "code",
      "metadata": {
        "colab_type": "code",
        "outputId": "4fdc8ef7-0560-4312-ec6d-5125e3ac58a4",
        "id": "a-9KcNrYJIt0",
        "colab": {
          "base_uri": "https://localhost:8080/",
          "height": 68
        }
      },
      "source": [
        "#calculating roc auc score using\n",
        "GB_GS_Train = roc_auc_score(Y0,Y0_gb_gs).round(2)\n",
        "GB_GS_Test = roc_auc_score(Y1,Y1_gb_gs).round(2)\n",
        "GB_GS_Mean5 = np.mean(cross_val_score(estimator=gb_grid,X=X,y=Y,cv=KFold(n_splits=5, shuffle=False, random_state=None),n_jobs=-1, scoring=\"roc_auc\")).round(2)\n",
        "\n",
        "print(\"ROC_AUC Train for tuned GB:\", GB_GS_Train)\n",
        "print(\"ROC_AUC Test for tuned GB:\", GB_GS_Test)\n",
        "print(\"Mean 5-fold ROC AUC score for Tuned GB\", GB_GS_Mean5)"
      ],
      "execution_count": 38,
      "outputs": [
        {
          "output_type": "stream",
          "text": [
            "ROC_AUC Train for tuned GB: 0.8\n",
            "ROC_AUC Test for tuned GB: 0.53\n",
            "Mean 5-fold ROC AUC score for Tuned GB 0.52\n"
          ],
          "name": "stdout"
        }
      ]
    },
    {
      "cell_type": "code",
      "metadata": {
        "id": "oyjTY4v0YF52",
        "colab_type": "code",
        "outputId": "153f24e4-f6cb-4c48-ecfc-f92e35b46000",
        "colab": {
          "base_uri": "https://localhost:8080/",
          "height": 266
        }
      },
      "source": [
        "#retrieving the importances of features(independent variables)\n",
        "pd.DataFrame(data=gb_grid.feature_importances_,index=X0.columns)"
      ],
      "execution_count": 39,
      "outputs": [
        {
          "output_type": "execute_result",
          "data": {
            "text/html": [
              "<div>\n",
              "<style scoped>\n",
              "    .dataframe tbody tr th:only-of-type {\n",
              "        vertical-align: middle;\n",
              "    }\n",
              "\n",
              "    .dataframe tbody tr th {\n",
              "        vertical-align: top;\n",
              "    }\n",
              "\n",
              "    .dataframe thead th {\n",
              "        text-align: right;\n",
              "    }\n",
              "</style>\n",
              "<table border=\"1\" class=\"dataframe\">\n",
              "  <thead>\n",
              "    <tr style=\"text-align: right;\">\n",
              "      <th></th>\n",
              "      <th>0</th>\n",
              "    </tr>\n",
              "  </thead>\n",
              "  <tbody>\n",
              "    <tr>\n",
              "      <th>volume_delta</th>\n",
              "      <td>0.173608</td>\n",
              "    </tr>\n",
              "    <tr>\n",
              "      <th>open_-2_r</th>\n",
              "      <td>0.158597</td>\n",
              "    </tr>\n",
              "    <tr>\n",
              "      <th>macdh</th>\n",
              "      <td>0.161819</td>\n",
              "    </tr>\n",
              "    <tr>\n",
              "      <th>cr-ma2_xu_cr-ma1_20_c</th>\n",
              "      <td>0.000000</td>\n",
              "    </tr>\n",
              "    <tr>\n",
              "      <th>dma</th>\n",
              "      <td>0.150363</td>\n",
              "    </tr>\n",
              "    <tr>\n",
              "      <th>pdi</th>\n",
              "      <td>0.186871</td>\n",
              "    </tr>\n",
              "    <tr>\n",
              "      <th>dx</th>\n",
              "      <td>0.168742</td>\n",
              "    </tr>\n",
              "  </tbody>\n",
              "</table>\n",
              "</div>"
            ],
            "text/plain": [
              "                              0\n",
              "volume_delta           0.173608\n",
              "open_-2_r              0.158597\n",
              "macdh                  0.161819\n",
              "cr-ma2_xu_cr-ma1_20_c  0.000000\n",
              "dma                    0.150363\n",
              "pdi                    0.186871\n",
              "dx                     0.168742"
            ]
          },
          "metadata": {
            "tags": []
          },
          "execution_count": 39
        }
      ]
    },
    {
      "cell_type": "markdown",
      "metadata": {
        "id": "tLZVf6EFCO5b",
        "colab_type": "text"
      },
      "source": [
        "# `Tuned Random Forest`"
      ]
    },
    {
      "cell_type": "code",
      "metadata": {
        "id": "vVQn8adgAuQv",
        "colab_type": "code",
        "colab": {}
      },
      "source": [
        "data_rf = pd.get_dummies(data_rf,drop_first=True)\n",
        "\n",
        "Y = data_rf[\"target\"]\n",
        "X = data_rf.drop(\"target\",axis=1)\n",
        "\n",
        "X0, X1, Y0, Y1 = train_test_split(X,Y,test_size =0.25, shuffle = False)"
      ],
      "execution_count": 0,
      "outputs": []
    },
    {
      "cell_type": "code",
      "metadata": {
        "id": "zELhPhxDAq1g",
        "colab_type": "code",
        "colab": {}
      },
      "source": [
        "#setting up parameters for DT's GridSearch\n",
        "param_dt={\"max_depth\":range(1,9),\n",
        "          \"min_samples_leaf\":range(10,150,10),\n",
        "          \"class_weight\":[\"balanced\",None]        \n",
        "            }"
      ],
      "execution_count": 0,
      "outputs": []
    },
    {
      "cell_type": "code",
      "metadata": {
        "id": "jPEAIJocAc6-",
        "colab_type": "code",
        "colab": {}
      },
      "source": [
        "#building GridSearch for RF using DT's hyperparameters ranges\n",
        "gs_rf = GridSearchCV(estimator = RandomForestClassifier(random_state=42),\n",
        "                  param_grid = param_dt, scoring=\"roc_auc\", cv=KFold(n_splits=5, shuffle=False, random_state=None), n_jobs=-1).fit(X0,Y0)"
      ],
      "execution_count": 0,
      "outputs": []
    },
    {
      "cell_type": "code",
      "metadata": {
        "id": "u0QGNcU2AkTo",
        "colab_type": "code",
        "outputId": "67e853c7-9d95-4c68-9352-5c95811b866f",
        "colab": {
          "base_uri": "https://localhost:8080/",
          "height": 34
        }
      },
      "source": [
        " #outlining best parameters\n",
        "gs_rf.best_params_"
      ],
      "execution_count": 25,
      "outputs": [
        {
          "output_type": "execute_result",
          "data": {
            "text/plain": [
              "{'class_weight': None, 'max_depth': 5, 'min_samples_leaf': 140}"
            ]
          },
          "metadata": {
            "tags": []
          },
          "execution_count": 25
        }
      ]
    },
    {
      "cell_type": "code",
      "metadata": {
        "id": "0o8WtRXRArPK",
        "colab_type": "code",
        "colab": {}
      },
      "source": [
        "#fitting the model and calculating probabilities\n",
        "pm = gs_rf.best_params_\n",
        "rf_grid = RandomForestClassifier(class_weight = pm['class_weight'], max_depth = pm['max_depth'], min_samples_leaf = pm['min_samples_leaf'], random_state=42).fit(X0,Y0)\n",
        "\n",
        "Y0_rf_grid=rf_grid.predict_proba(X0)[:,1]\n",
        "Y1_rf_grid=rf_grid.predict_proba(X1)[:,1]"
      ],
      "execution_count": 0,
      "outputs": []
    },
    {
      "cell_type": "code",
      "metadata": {
        "id": "2i1D6L1hCvk9",
        "colab_type": "code",
        "outputId": "a28ade8e-c273-4844-def6-fc270d7b08d5",
        "colab": {
          "base_uri": "https://localhost:8080/",
          "height": 68
        }
      },
      "source": [
        "#printing the ROC AUC scores for training and testing sets\n",
        "RF_GS_Train = roc_auc_score(Y0,Y0_rf_grid).round(2)\n",
        "RF_GS_Test = roc_auc_score(Y1,Y1_rf_grid).round(2)\n",
        "RF_GS_Mean5 = np.mean(cross_val_score(estimator = rf_grid,X=X,y=Y,cv=KFold(n_splits=5, shuffle=False, random_state=None),n_jobs=-1, scoring=\"roc_auc\")).round(2)\n",
        "\n",
        "\n",
        "print(\"ROC_AUC Train for tuned RF:\",RF_GS_Train)\n",
        "print(\"ROC_AUC Test for tuned RF:\", RF_GS_Test)\n",
        "print(\"Mean 5-fold ROC AUC score for tuned RF\", RF_GS_Mean5)"
      ],
      "execution_count": 27,
      "outputs": [
        {
          "output_type": "stream",
          "text": [
            "ROC_AUC Train for tuned RF: 0.59\n",
            "ROC_AUC Test for tuned RF: 0.55\n",
            "Mean 5-fold ROC AUC score for tuned RF 0.53\n"
          ],
          "name": "stdout"
        }
      ]
    },
    {
      "cell_type": "code",
      "metadata": {
        "id": "LqZfaeJdPgCR",
        "colab_type": "code",
        "outputId": "a087da7c-38fa-4946-8879-6334eb504f84",
        "colab": {
          "base_uri": "https://localhost:8080/",
          "height": 266
        }
      },
      "source": [
        "#retrieving the importances of features(independent variables)\n",
        "pd.DataFrame(data=rf_grid.feature_importances_,index=X0.columns)"
      ],
      "execution_count": 28,
      "outputs": [
        {
          "output_type": "execute_result",
          "data": {
            "text/html": [
              "<div>\n",
              "<style scoped>\n",
              "    .dataframe tbody tr th:only-of-type {\n",
              "        vertical-align: middle;\n",
              "    }\n",
              "\n",
              "    .dataframe tbody tr th {\n",
              "        vertical-align: top;\n",
              "    }\n",
              "\n",
              "    .dataframe thead th {\n",
              "        text-align: right;\n",
              "    }\n",
              "</style>\n",
              "<table border=\"1\" class=\"dataframe\">\n",
              "  <thead>\n",
              "    <tr style=\"text-align: right;\">\n",
              "      <th></th>\n",
              "      <th>0</th>\n",
              "    </tr>\n",
              "  </thead>\n",
              "  <tbody>\n",
              "    <tr>\n",
              "      <th>volume_delta</th>\n",
              "      <td>0.145147</td>\n",
              "    </tr>\n",
              "    <tr>\n",
              "      <th>open_-2_r</th>\n",
              "      <td>0.197188</td>\n",
              "    </tr>\n",
              "    <tr>\n",
              "      <th>macdh</th>\n",
              "      <td>0.143481</td>\n",
              "    </tr>\n",
              "    <tr>\n",
              "      <th>cr-ma2_xu_cr-ma1_20_c</th>\n",
              "      <td>0.000000</td>\n",
              "    </tr>\n",
              "    <tr>\n",
              "      <th>dma</th>\n",
              "      <td>0.158925</td>\n",
              "    </tr>\n",
              "    <tr>\n",
              "      <th>pdi</th>\n",
              "      <td>0.202395</td>\n",
              "    </tr>\n",
              "    <tr>\n",
              "      <th>dx</th>\n",
              "      <td>0.152864</td>\n",
              "    </tr>\n",
              "  </tbody>\n",
              "</table>\n",
              "</div>"
            ],
            "text/plain": [
              "                              0\n",
              "volume_delta           0.145147\n",
              "open_-2_r              0.197188\n",
              "macdh                  0.143481\n",
              "cr-ma2_xu_cr-ma1_20_c  0.000000\n",
              "dma                    0.158925\n",
              "pdi                    0.202395\n",
              "dx                     0.152864"
            ]
          },
          "metadata": {
            "tags": []
          },
          "execution_count": 28
        }
      ]
    },
    {
      "cell_type": "markdown",
      "metadata": {
        "id": "feQnxj_5baFx",
        "colab_type": "text"
      },
      "source": [
        "# `Summary`"
      ]
    },
    {
      "cell_type": "code",
      "metadata": {
        "id": "mq_OT7iRV6Nn",
        "colab_type": "code",
        "outputId": "ca2f7da6-476c-4f5a-f515-cb6ea47f17d6",
        "colab": {
          "base_uri": "https://localhost:8080/",
          "height": 136
        }
      },
      "source": [
        "#Picking the best model based on mean 5-fold cross validation score.\n",
        "\n",
        "print('Unfiltered dataset:')\n",
        "print(\"Mean 5-fold ROC AUC score for GB\", GB_Mean5)\n",
        "print(\"Mean 5-fold ROC AUC score for Tuned GB\", GB_GS_Mean5)\n",
        "print(\"Mean 5-fold ROC AUC score for DT\", DT_Mean5)\n",
        "\n",
        "print('Filtered dataset:')\n",
        "print(\"Mean 5-fold ROC AUC score for Tuned GB\", GB_GS_Mean5)\n",
        "print(\"Mean 5-fold ROC AUC score for Tuned RF\", RF_GS_Mean5)\n",
        "\n"
      ],
      "execution_count": 40,
      "outputs": [
        {
          "output_type": "stream",
          "text": [
            "Unfiltered dataset:\n",
            "Mean 5-fold ROC AUC score for GB 0.54\n",
            "Mean 5-fold ROC AUC score for Tuned GB 0.52\n",
            "Mean 5-fold ROC AUC score for DT 0.51\n",
            "Filtered dataset:\n",
            "Mean 5-fold ROC AUC score for Tuned GB 0.52\n",
            "Mean 5-fold ROC AUC score for Tuned RF 0.53\n"
          ],
          "name": "stdout"
        }
      ]
    },
    {
      "cell_type": "code",
      "metadata": {
        "id": "USAJn0jwKJIg",
        "colab_type": "code",
        "colab": {}
      },
      "source": [
        ""
      ],
      "execution_count": 0,
      "outputs": []
    }
  ]
}